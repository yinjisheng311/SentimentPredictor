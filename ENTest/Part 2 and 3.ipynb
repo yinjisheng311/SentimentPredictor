{
 "cells": [
  {
   "cell_type": "markdown",
   "metadata": {},
   "source": [
    "## Part 2\n",
    "#### Load training file and create dictionary containing the occurrences of each annotation in the training set"
   ]
  },
  {
   "cell_type": "code",
   "execution_count": 112,
   "metadata": {
    "collapsed": true
   },
   "outputs": [],
   "source": [
    "def load_original_train():\n",
    "    with open(\"train\", encoding=\"utf-8\") as file:\n",
    "        train_list = file.readlines()\n",
    "        train_list = [x.strip() for x in train_list]\n",
    "        return train_list\n",
    "    \n",
    "train_list = load_original_train()"
   ]
  },
  {
   "cell_type": "code",
   "execution_count": 113,
   "metadata": {},
   "outputs": [
    {
     "name": "stdout",
     "output_type": "stream",
     "text": [
      "{'O': 24242, 'I-positive': 607, 'B-positive': 1208, 'I-negative': 133, 'B-negative': 382, 'I-neutral': 23, 'B-neutral': 65}\n"
     ]
    }
   ],
   "source": [
    "annotationDict = {\"O\": 0, \"I-positive\": 0, \"B-positive\": 0, \"I-negative\":0, \"B-negative\": 0, \"I-neutral\":0, \"B-neutral\":0}\n",
    "\n",
    "for i in range(len(train_list)):\n",
    "    annotated_word = train_list[i]\n",
    "    each_word = annotated_word.split(\" \")\n",
    "    if (len(each_word) == 2):\n",
    "        if each_word[1] == \"O\":\n",
    "            annotationDict[\"O\"] += 1\n",
    "        elif each_word[1] == \"I-positive\":\n",
    "            annotationDict[\"I-positive\"] += 1\n",
    "        elif each_word[1] == \"B-positive\":\n",
    "            annotationDict[\"B-positive\"] += 1\n",
    "        elif each_word[1] == \"I-negative\":\n",
    "            annotationDict[\"I-negative\"] += 1\n",
    "        elif each_word[1] == \"B-negative\":\n",
    "            annotationDict[\"B-negative\"] += 1\n",
    "        elif each_word[1] == \"I-neutral\":\n",
    "            annotationDict[\"I-neutral\"] += 1\n",
    "        elif each_word[1] == \"B-neutral\":\n",
    "            annotationDict[\"B-neutral\"] += 1\n",
    "\n",
    "print(annotationDict)"
   ]
  },
  {
   "cell_type": "markdown",
   "metadata": {},
   "source": [
    "#### (a) Write a function that estimates the emission parameters from the training set using MLE"
   ]
  },
  {
   "cell_type": "code",
   "execution_count": 114,
   "metadata": {},
   "outputs": [
    {
     "data": {
      "text/plain": [
       "0.0004950086626515964"
      ]
     },
     "execution_count": 114,
     "metadata": {},
     "output_type": "execute_result"
    }
   ],
   "source": [
    "def estimate_emission(word, tag):\n",
    "    countTop = 0\n",
    "    countBottom = annotationDict[tag]\n",
    "    for i in range(len(train_list)):\n",
    "        annotated_word = train_list[i]\n",
    "        each_word = annotated_word.split(\" \")\n",
    "        if len(each_word) == 2:\n",
    "            if (each_word[0] == word and each_word[1] == tag):\n",
    "                countTop += 1\n",
    "\n",
    "#         print(countTop)\n",
    "#         print(countBottom)\n",
    "    return countTop/countBottom\n",
    "\n",
    "estimate_emission(\"service\", \"O\")"
   ]
  },
  {
   "cell_type": "markdown",
   "metadata": {},
   "source": [
    "#### (b) Replace the words that appear less than k times in the training set with a special token #UNK# before training. This leads to a “modified training set”."
   ]
  },
  {
   "cell_type": "code",
   "execution_count": 115,
   "metadata": {},
   "outputs": [
    {
     "name": "stdout",
     "output_type": "stream",
     "text": [
      "0:00:01.164063\n"
     ]
    }
   ],
   "source": [
    "import datetime\n",
    "\n",
    "def modify_trainingset(k):\n",
    "        wordCountDict = {}\n",
    "        for i in range(len(train_list)):\n",
    "            annotated_word = train_list[i]\n",
    "            each_word = annotated_word.split(\" \")\n",
    "            if each_word[0] in wordCountDict:\n",
    "                wordCountDict[each_word[0]] += 1\n",
    "            else:\n",
    "                wordCountDict[each_word[0]] = 1\n",
    "        \n",
    "       \n",
    "        wordToBeReplacedDict = {}\n",
    "        wordToBeReplacedList = []\n",
    "        for key in wordCountDict:\n",
    "            if wordCountDict[key] < k:\n",
    "                wordToBeReplacedList.append(key)\n",
    "\n",
    "        start = datetime.datetime.now()\n",
    "        for i in range(len(train_list)): \n",
    "            annotated_word = train_list[i]\n",
    "            each_word = annotated_word.split(\" \")\n",
    "            if each_word[0] in wordToBeReplacedList:\n",
    "                train_list[i] = \"#UNK# \" + each_word[1]\n",
    "\n",
    "\n",
    "        modifiedTotalTrainSet = \"\\n\".join(train_list)\n",
    "\n",
    "        f = open(\"modified_train\",\"w+\")\n",
    "        f.write(modifiedTotalTrainSet)\n",
    "                            \n",
    "        end = datetime.datetime.now()\n",
    "        elapsed = end - start\n",
    "        print(elapsed)\n",
    "\n",
    "modify_trainingset(3)"
   ]
  },
  {
   "cell_type": "markdown",
   "metadata": {},
   "source": [
    "#### Loads the modified training set into a list, and count the occurences of each word in the list and store it into a dictionary called modifiedWordDict"
   ]
  },
  {
   "cell_type": "code",
   "execution_count": 116,
   "metadata": {
    "collapsed": true
   },
   "outputs": [],
   "source": [
    "def load_modified_train_file():\n",
    "    with open(\"modified_train\", encoding=\"utf-8\") as file:\n",
    "        modified_train_list = file.readlines()\n",
    "        modified_train_list = [x.strip() for x in modified_train_list]\n",
    "        return modified_train_list\n",
    "        \n",
    "modified_train_list = load_modified_train_file()"
   ]
  },
  {
   "cell_type": "code",
   "execution_count": 117,
   "metadata": {
    "collapsed": true
   },
   "outputs": [],
   "source": [
    "def get_word_dict():\n",
    "    modifiedWordDict = {}        \n",
    "    for i in range(len(modified_train_list)):\n",
    "        annotated_word = modified_train_list[i]\n",
    "        each_word = annotated_word.split(\" \")\n",
    "        if each_word[0] in modifiedWordDict:\n",
    "            modifiedWordDict[each_word[0]] += 1\n",
    "        else:\n",
    "            modifiedWordDict[each_word[0]] = 1\n",
    "\n",
    "    return modifiedWordDict\n",
    "    \n",
    "modifiedWordDict = get_word_dict()"
   ]
  },
  {
   "cell_type": "code",
   "execution_count": 118,
   "metadata": {
    "collapsed": true
   },
   "outputs": [],
   "source": [
    "def count_word_tag_pair_dict():\n",
    "    word_tag_pair_dict= {}\n",
    "    for word_tag_pair in modified_train_list:\n",
    "        if word_tag_pair_dict.get(word_tag_pair) == None:\n",
    "            word_tag_pair_dict[word_tag_pair] = 1\n",
    "        else:\n",
    "            word_tag_pair_dict[word_tag_pair] += 1\n",
    "    return word_tag_pair_dict\n",
    "\n",
    "    \n",
    "wordTagPairDict = count_word_tag_pair_dict()"
   ]
  },
  {
   "cell_type": "markdown",
   "metadata": {},
   "source": [
    "#### Implement a fixed emission function"
   ]
  },
  {
   "cell_type": "code",
   "execution_count": 119,
   "metadata": {},
   "outputs": [
    {
     "data": {
      "text/plain": [
       "0.019511591452850426"
      ]
     },
     "execution_count": 119,
     "metadata": {},
     "output_type": "execute_result"
    }
   ],
   "source": [
    "def estimate_emission_fix(word, tag):\n",
    "        countTop = 0\n",
    "        countBottom = annotationDict[tag]\n",
    "        if word in modifiedWordDict:\n",
    "            # do nothing\n",
    "            word = word\n",
    "            \n",
    "        else:\n",
    "            word = \"#UNK#\"\n",
    "\n",
    "        for i in range(len(modified_train_list)):\n",
    "            annotated_word = modified_train_list[i]\n",
    "            each_word = annotated_word.split(\" \")\n",
    "            if (each_word[0] == word and each_word[1] == tag):\n",
    "                countTop += 1\n",
    "        return countTop/countBottom\n",
    "\n",
    "estimate_emission_fix(\"I\", \"O\")"
   ]
  },
  {
   "cell_type": "markdown",
   "metadata": {},
   "source": [
    "#### Loop through the words once and store the emission value of each word tag pair into a giant dictionary called giantEmissionDict"
   ]
  },
  {
   "cell_type": "code",
   "execution_count": 120,
   "metadata": {},
   "outputs": [
    {
     "name": "stdout",
     "output_type": "stream",
     "text": [
      "{'We O': 0.0034238099166735416, 'were O': 0.005156340235954129, 'then O': 0.0006187608283144955, '#UNK# O': 0.11649203861067568, 'for O': 0.011508951406649617, 'their O': 0.0021450375381569177, 'most O': 0.0010725187690784589, 'expensive O': 0.0005362593845392294, 'sake O': 0.0002475043313257982, '( O': 0.003300057751010643, '$ O': 0.0018975332068311196, '20 O': 0.0002475043313257982, '+ O': 0.00016500288755053212, 'per O': 0.00020625360943816518, 'serving O': 0.0001237521656628991, ') O': 0.0034238099166735416, 'when O': 0.0016912795973929543, 'we O': 0.005486346011055194, 'in O': 0.010560184803234056, 'fact O': 0.0003712564969886973, 'a O': 0.022151637653658938, 'of O': 0.012210213678739378, 'less O': 0.0002475043313257982, 'than O': 0.0015675274317300553, 'half O': 0.0003712564969886973, 'that O': 0.007383879217886313, 'price O': 0.001155020212853725, '. O': 0.06286610015675274, '#UNK# B-neutral': 0.16923076923076924, 'is O': 0.019057833512086463, 'nothing O': 0.0007012622720897616, 'special O': 0.0005775101064268625, 'Great O': 0.001237521656628991, '#UNK# B-positive': 0.24254966887417218, 'and O': 0.03155680224403927, 'worth O': 0.0012787723785166241, 'every O': 0.0009487666034155598, 'bit O': 0.0007837637158650277, 'delicious O': 0.0021862882600445508, 'bagels B-positive': 0.0041390728476821195, ', O': 0.03889943074003795, 'especially O': 0.0003712564969886973, 'right O': 0.00033000577510106425, 'out O': 0.002392541869482716, 'the O': 0.04541704479828397, 'Go O': 0.0003712564969886973, 'here O': 0.0028462998102466793, 'Highly O': 0.00020625360943816518, 'recommended O': 0.0003712564969886973, '! O': 0.01113769490966092, 'But O': 0.0005362593845392294, 'who O': 0.0009487666034155598, 'says O': 0.00016500288755053212, 'anything O': 0.00028875505321343124, 'about O': 0.0021862882600445508, 'service B-negative': 0.09424083769633508, 'The O': 0.012498968731952808, 'atmosphere O': 4.125072188763303e-05, 'was O': 0.017490306080356406, 'an O': 0.002640046200808514, 'crowd O': 0.00020625360943816518, 'but O': 0.0077551357148750106, 'there O': 0.003918818579325138, 'few O': 0.0005362593845392294, 'mid O': 0.00016500288755053212, \"' O\": 0.0006600115502021285, 's O': 0.00020625360943816518, '/ O': 0.0004950086626515964, '30 O': 0.00016500288755053212, 'year O': 0.0002475043313257982, 'also O': 0.0008250144377526607, 'Just O': 0.0003712564969886973, 'up O': 0.0014850259879547892, 'cheap O': 0.00045375794076396337, 'good O': 0.00651761405824602, 'food B-positive': 0.10430463576158941, 'had O': 0.005197590957841762, 'to O': 0.019676594340400956, 'wait O': 0.0012787723785166241, 'everything O': 0.0006187608283144955, 'ask O': 0.0004950086626515964, 'several O': 0.0003712564969886973, 'different O': 0.0006187608283144955, 'people O': 0.0007425129939773946, 'same O': 0.00041250721887633036, 'thing O': 0.0007837637158650277, 'before O': 0.0007012622720897616, 'be O': 0.004125072188763303, 'served O': 0.0005775101064268625, 'This O': 0.0020625360943816516, 'great O': 0.005733850342380992, 'place O': 0.00272254764458378, 'get O': 0.0020212853724940185, 'meal B-positive': 0.012417218543046357, 'so O': 0.004537579407639634, 'now O': 0.00045375794076396337, 'what O': 0.0015262767098424223, 'are O': 0.0054038445672799276, 'appetizers O': 0.0002475043313257982, '? O': 0.001320023100404257, 'I O': 0.019511591452850426, 'dining O': 0.00045375794076396337, 'at O': 0.004537579407639634, 'Casa B-negative': 0.005235602094240838, 'La I-negative': 0.007518796992481203, 'Femme I-negative': 0.015037593984962405, 'like O': 0.002475043313257982, 'no O': 0.0016912795973929543, 'other O': 0.001113769490966092, 'experience O': 0.001196270934741358, 'It O': 0.0012787723785166241, \"wasn't O\": 0.0006187608283144955, 'freshest O': 0.0001237521656628991, 'seafood B-neutral': 0.015384615384615385, 'ever O': 0.0009900173253031927, 'taste O': 0.0004950086626515964, 'presentation O': 0.0001237521656628991, 'OK O': 0.0001237521656628991, 'They O': 0.0010725187690784589, 'have O': 0.006105106839369689, 'authentic O': 0.0002475043313257982, 'Indian B-positive': 0.0041390728476821195, 'prices O': 0.0009900173253031927, 'special I-positive': 0.014827018121911038, 'my O': 0.004826334460853065, 'husband O': 0.00041250721887633036, 'steak B-positive': 0.0008278145695364238, 'service B-positive': 0.06539735099337748, 'food B-neutral': 0.15384615384615385, 'decent O': 0.00028875505321343124, 'i O': 0.0018562824849434865, 'am O': 0.0007425129939773946, 'never O': 0.0017325303192805873, 'disappointed O': 0.00045375794076396337, 'with O': 0.005362593845392294, 'everyone O': 0.0003712564969886973, 'helpful O': 0.00028875505321343124, '#UNK# I-positive': 0.34761120263591433, 'even O': 0.0014437752660671562, 'table O': 0.00136127382229189, 'it O': 0.010395181915683524, 'me O': 0.0017737810411682204, '– O': 0.002392541869482716, 'breakfast B-positive': 0.0024834437086092716, 'When O': 0.00045375794076396337, 'got O': 0.0008250144377526607, 'sat O': 0.00041250721887633036, 'stairs O': 0.0001237521656628991, 'where O': 0.00041250721887633036, 'atmosphere B-positive': 0.018211920529801324, 'cozy O': 0.00033000577510106425, '& O': 0.0003712564969886973, 'horrible O': 0.00041250721887633036, 'far O': 0.0006600115502021285, 'from O': 0.0020625360943816516, 'small O': 0.0007837637158650277, 'street O': 0.00028875505321343124, \"it's O\": 0.001237521656628991, 'on O': 0.006022605395594423, 'Save O': 0.0001237521656628991, 'yourself O': 0.00033000577510106425, 'waste O': 0.00020625360943816518, 'time O': 0.002640046200808514, 'NOT O': 0.00020625360943816518, 'visit O': 0.0007837637158650277, 'course O': 0.00020625360943816518, 'Also O': 0.00033000577510106425, 'they O': 0.0033825591947859086, '15 O': 0.00020625360943816518, 'each O': 0.00033000577510106425, 'guy O': 0.0001237521656628991, 'seat O': 0.0002475043313257982, 'her O': 0.0003712564969886973, 'she O': 0.0007837637158650277, 'left O': 0.0005362593845392294, 'by O': 0.002433792591370349, 'four O': 0.0002475043313257982, 'us O': 0.0016087781536176884, 'not O': 0.006476363336358386, 'told O': 0.00033000577510106425, 'him O': 0.0001237521656628991, 'years O': 0.0007425129939773946, 'world O': 0.0005362593845392294, 'including O': 0.00033000577510106425, 'seen O': 0.00020625360943816518, 'such O': 0.0007837637158650277, 'bad O': 0.0008250144377526607, '#UNK# B-negative': 0.18324607329842932, 'restaurant O': 0.0025162940351456152, 'really O': 0.0018150317630558535, 'liked O': 0.00020625360943816518, 'this O': 0.005857602508043891, 'place B-positive': 0.05380794701986755, 'filet B-positive': 0.0041390728476821195, 'mignon I-positive': 0.004942339373970346, 'dish I-positive': 0.004942339373970346, 'superb O': 0.0001237521656628991, 'casual O': 0.00028875505321343124, 'just O': 0.002475043313257982, 'bite O': 0.0003712564969886973, 'eat O': 0.001196270934741358, 'been O': 0.002268789703819817, 'both O': 0.0006187608283144955, 'food B-negative': 0.10732984293193717, 'So O': 0.0003712564969886973, 'if O': 0.0021037868162692847, \"you're O\": 0.0006187608283144955, 'walking O': 0.0001237521656628991, 'you O': 0.007425129939773946, 'might O': 0.00028875505321343124, 'want O': 0.0008250144377526607, 'see O': 0.00041250721887633036, 'going O': 0.0010312680471908258, 'seating O': 4.125072188763303e-05, 'first O': 0.0007012622720897616, '... O': 0.003588812804224074, 'Good O': 0.0003712564969886973, 'late O': 0.00041250721887633036, 'night O': 0.001155020212853725, 'last O': 0.0008662651596402937, 'planning O': 0.00016500288755053212, 'without O': 0.0005775101064268625, 'reservations O': 0.00016500288755053212, 'pizza B-positive': 0.0173841059602649, '- O': 0.0035063113604488078, 'use O': 0.00020625360943816518, 'fresh B-positive': 0.0016556291390728477, 'mozzarella I-positive': 0.0016474464579901153, 'instead O': 0.0002475043313257982, 'frozen O': 0.0001237521656628991, 'cheese O': 0.0002475043313257982, 'friendly O': 0.001196270934741358, 'problem O': 0.00028875505321343124, 'getting O': 0.00033000577510106425, \"can't O\": 0.001237521656628991, 'remember O': 0.00033000577510106425, 'New O': 0.0005775101064268625, 'York O': 0.00045375794076396337, 'only O': 0.0016087781536176884, 'beverage O': 8.250144377526606e-05, 'did O': 0.0008662651596402937, 'water O': 0.00033000577510106425, 'glasses O': 0.0001237521656628991, \"Can't O\": 0.0001237521656628991, 'go O': 0.003217556307235377, 'back O': 0.002681296922696147, '+ I-positive': 0.0016474464579901153, 'shrimp I-positive': 0.006589785831960461, 'appetizer I-positive': 0.006589785831960461, 'very O': 0.004248824354426203, \"didn't O\": 0.0008250144377526607, 'much O': 0.0010725187690784589, 'came O': 0.001155020212853725, 'filet O': 4.125072188763303e-05, 'wine B-positive': 0.015728476821192054, 'list I-positive': 0.0214168039538715, 'excellent O': 0.001113769490966092, 'Lobster B-positive': 0.0016556291390728477, 'has O': 0.0014437752660671562, '2 O': 0.0006600115502021285, 'oz O': 0.0001237521656628991, 'Lobster O': 8.250144377526606e-05, 'hostess B-positive': 0.0008278145695364238, 'pleasant O': 0.00028875505321343124, 'best O': 0.0025575447570332483, 'quite O': 0.0004950086626515964, 'reasonable O': 0.0003712564969886973, \"won't O\": 0.00028875505321343124, 'unless O': 0.0001237521656628991, 'someone O': 0.0002475043313257982, 'else O': 0.00041250721887633036, 'bill O': 0.0004950086626515964, 'main B-positive': 0.0024834437086092716, 'entree I-positive': 0.0032948929159802307, 'value O': 0.00028875505321343124, 'fantastic O': 0.0004950086626515964, 'waiting B-positive': 0.0008278145695364238, 'staff I-positive': 0.006589785831960461, 'perfect O': 0.0006187608283144955, \"we've O\": 0.0003712564969886973, 'times O': 0.0009900173253031927, 'extremely O': 0.0003712564969886973, 'which O': 0.002640046200808514, 'rude O': 0.0006187608283144955, 'went O': 0.001113769490966092, 'town O': 0.0004950086626515964, 'location O': 0.00016500288755053212, 'next O': 0.0006187608283144955, 'simple O': 0.00016500288755053212, 'nice O': 0.0017737810411682204, 'outdoor B-positive': 0.0033112582781456954, 'atmosphere I-positive': 0.004942339373970346, 'three O': 0.0002475043313257982, 'minutes O': 0.0008662651596402937, 'found O': 0.0006187608283144955, 'myself O': 0.00028875505321343124, 'over O': 0.001155020212853725, 'toilet O': 0.0001237521656628991, 'for I-positive': 0.0016474464579901153, 'brunch I-positive': 0.0016474464579901153, 'level O': 0.0001237521656628991, \"I'm O\": 0.0007425129939773946, 'still O': 0.00045375794076396337, 'pay O': 0.00033000577510106425, 'lousy O': 0.0001237521656628991, 'Love O': 0.00028875505321343124, 'scene B-positive': 0.0016556291390728477, 'off O': 0.0007012622720897616, 'light O': 0.0001237521656628991, '.. O': 0.0004950086626515964, 'location B-positive': 0.0024834437086092716, 'atmosphere B-negative': 0.002617801047120419, 'pretty O': 0.0008250144377526607, 'lacking O': 0.00016500288755053212, 'make O': 0.0009900173253031927, 'of I-negative': 0.03007518796992481, '#UNK# I-negative': 0.2556390977443609, 'Saturday O': 0.00016500288755053212, 'nights O': 0.00016500288755053212, 'music O': 0.00016500288755053212, 'A O': 0.0010312680471908258, 'food O': 0.0021037868162692847, 'arrived O': 0.00028875505321343124, 'Their O': 0.00028875505321343124, 'sake B-positive': 0.005794701986754967, 'extensive O': 0.00033000577510106425, 'looking O': 0.00045375794076396337, 'listed O': 0.00020625360943816518, 'made O': 0.001155020212853725, 'upon O': 0.00020625360943816518, \"don't O\": 0.0016912795973929543, 'usually O': 0.00028875505321343124, 'order O': 0.0010725187690784589, 'wine O': 0.00041250721887633036, 'indian O': 0.0001237521656628991, 'comment O': 0.00020625360943816518, 'list O': 0.00020625360943816518, 'or O': 0.002598795478920881, 'wines O': 4.125072188763303e-05, 'Authentic O': 0.0001237521656628991, 'food I-positive': 0.032948929159802305, 'All O': 0.0003712564969886973, 'all O': 0.0035063113604488078, 'gem O': 0.00033000577510106425, 'became O': 0.0001237521656628991, 'one O': 0.00272254764458378, 'favorite O': 0.0006187608283144955, 'sushi O': 0.0006187608283144955, 'restaurants O': 0.0009900173253031927, 'city O': 0.00041250721887633036, 'Not O': 0.0007012622720897616, 'NYC O': 0.0005775101064268625, 'restaurant B-positive': 0.022350993377483443, 'bagel O': 0.00020625360943816518, 'having O': 0.00016500288755053212, 'My O': 0.0014437752660671562, 'family O': 0.0003712564969886973, 'ate O': 0.0003712564969886973, 'live O': 0.00028875505321343124, 'nearby O': 0.00016500288755053212, 'While O': 0.00028875505321343124, 'sure O': 0.0007837637158650277, 'deal O': 0.00028875505321343124, 'definitely O': 0.0004950086626515964, 'will O': 0.0015675274317300553, 'leave O': 0.00016500288755053212, 'feeling O': 0.00028875505321343124, 'full O': 0.0002475043313257982, 'after O': 0.0007012622720897616, 'thought O': 0.0005362593845392294, 'would O': 0.002268789703819817, 'end O': 0.00016500288755053212, 'day O': 0.0005362593845392294, 'high O': 0.00041250721887633036, 'trip O': 0.00041250721887633036, 'across O': 0.0002475043313257982, 'Park O': 0.0001237521656628991, 'east O': 0.00016500288755053212, 'side O': 0.0005775101064268625, 'better O': 0.0010312680471908258, 'west O': 0.00016500288755053212, 'Nice O': 0.00020625360943816518, 'traditional O': 0.00016500288755053212, 'lived O': 0.0002475043313257982, 'wanted O': 0.00041250721887633036, 'Indian O': 0.0003712564969886973, 'decided O': 0.0002475043313257982, 'check O': 0.0006187608283144955, 'Our O': 0.0005362593845392294, 'any O': 0.0007837637158650277, '’ O': 0.0005775101064268625, 't O': 0.00033000577510106425, 'establishment O': 0.0001237521656628991, 'more O': 0.002268789703819817, 'once O': 0.0008250144377526607, 'twice O': 0.00016500288755053212, 'come O': 0.0006600115502021285, 'quiet O': 0.00016500288755053212, 'dinner O': 0.00136127382229189, 'yes O': 0.00016500288755053212, 'Bukhara I-positive': 0.0032948929159802307, 'pizza B-neutral': 0.015384615384615385, '’ I-neutral': 0.043478260869565216, 's I-neutral': 0.043478260869565216, 'huge O': 0.00045375794076396337, 'crust B-neutral': 0.015384615384615385, 'thin O': 0.00020625360943816518, 'keep O': 0.00045375794076396337, 'mind O': 0.00028875505321343124, 're O': 0.0001237521656628991, 'ordering O': 0.0001237521656628991, 'Food B-neutral': 0.07692307692307693, 'another O': 0.0003712564969886973, 'Even O': 0.0001237521656628991, 'friend O': 0.0006187608283144955, 'believe O': 0.0003712564969886973, 'how O': 0.0004950086626515964, 'tasty O': 0.0009487666034155598, 'chicken B-positive': 0.0074503311258278145, 'and I-positive': 0.026359143327841845, 'mashed I-positive': 0.0032948929159802307, 'itself O': 0.0001237521656628991, 'exactly O': 0.0001237521656628991, \"I've O\": 0.0014850259879547892, 'management B-negative': 0.007853403141361256, \"It's O\": 0.0007425129939773946, 'cute O': 0.0001237521656628991, 'felt O': 0.0002475043313257982, 'as O': 0.002763798366471413, 'though O': 0.0009075158815279267, 'eating O': 0.00045375794076396337, 'salads B-positive': 0.0008278145695364238, 'refreshing O': 0.0001237521656628991, 'spicy O': 0.00016500288755053212, 'visiting O': 0.0001237521656628991, '1st B-positive': 0.0008278145695364238, 'Ave I-positive': 0.0016474464579901153, 'spot I-positive': 0.004942339373970346, 'because O': 0.0009487666034155598, 'entertainment O': 0.0001237521656628991, 'through O': 0.0003712564969886973, 'waiters B-negative': 0.002617801047120419, 'lamb B-positive': 0.0016556291390728477, 'with I-positive': 0.013179571663920923, 'evening O': 0.00041250721887633036, 'AMAZING O': 0.0001237521656628991, 'floor O': 0.00016500288755053212, 'can O': 0.0018975332068311196, 'hand O': 0.00016500288755053212, 'love O': 0.0009487666034155598, 'Suan O': 4.125072188763303e-05, 'slow O': 0.00028875505321343124, 'service O': 0.0004950086626515964, 'overpriced O': 0.0003712564969886973, 'waitress B-positive': 0.0008278145695364238, 'phenomenal O': 0.0001237521656628991, 'romantic O': 0.00041250721887633036, 'With O': 0.00016500288755053212, 'blocks O': 0.0001237521656628991, 'away O': 0.0006187608283144955, 'beautiful O': 0.0003712564969886973, 'room B-positive': 0.0008278145695364238, 'Very O': 0.00028875505321343124, 'bartender B-negative': 0.005235602094240838, 'know O': 0.0006600115502021285, 'drinks O': 0.00045375794076396337, 'fresh O': 0.0009900173253031927, 'warm O': 0.0005362593845392294, 'busy O': 0.00020625360943816518, 'bar O': 0.00033000577510106425, 'attentive O': 0.0007425129939773946, 'customers O': 0.00028875505321343124, 'wife O': 0.0004950086626515964, 'barely O': 0.0001237521656628991, 'mess O': 0.0001237521656628991, 'dish B-negative': 0.005235602094240838, 'means O': 0.00016500288755053212, ': O': 0.0010312680471908258, 'dishes B-positive': 0.0041390728476821195, 'neighborhood O': 0.00045375794076396337, 'joint B-positive': 0.0008278145695364238, 'What O': 0.00041250721887633036, 'name O': 0.0002475043313257982, 'offered O': 0.00020625360943816518, 'unique O': 0.00016500288755053212, 'large B-positive': 0.0008278145695364238, 'amazing O': 0.0010312680471908258, \"Don't O\": 0.00028875505321343124, 'simply O': 0.00041250721887633036, 'Manhattan O': 0.0003712564969886973, 'into O': 0.0005362593845392294, 'boyfriend O': 0.00045375794076396337, 'took O': 0.0007012622720897616, 'find O': 0.0007012622720897616, 'manager O': 0.0002475043313257982, 'BEST O': 0.00020625360943816518, 'Restaurant I-positive': 0.0032948929159802307, 'Try O': 0.00033000577510106425, 'tuna I-positive': 0.0032948929159802307, 'die O': 0.00028875505321343124, 'around O': 0.0007837637158650277, 'girls O': 0.0001237521656628991, 'enjoy O': 0.0008250144377526607, 'your O': 0.0021037868162692847, '3 O': 0.0004950086626515964, 'old O': 0.00020625360943816518, 'trying O': 0.0003712564969886973, 'front O': 0.00020625360943816518, 'Excellent O': 0.0002475043313257982, 'Once O': 0.0001237521656628991, 'finally O': 0.0004950086626515964, 'menu O': 0.0006187608283144955, 'say O': 0.0010725187690784589, 'oil O': 8.250144377526606e-05, 'above O': 0.0002475043313257982, 'average O': 0.0007425129939773946, 'wines B-negative': 0.005235602094240838, 'start O': 0.00016500288755053212, 'selection O': 0.00020625360943816518, 'At O': 0.00016500288755053212, 'seems O': 0.0001237521656628991, 'pricey O': 0.00028875505321343124, 'hot O': 0.00045375794076396337, 'dog O': 8.250144377526606e-05, 'joint O': 0.0001237521656628991, 'hot B-positive': 0.0041390728476821195, 'dog I-positive': 0.004942339373970346, 'some O': 0.001196270934741358, 'inside O': 0.00020625360943816518, 'restaurant B-negative': 0.031413612565445025, 'rather O': 0.00028875505321343124, 'open B-positive': 0.0016556291390728477, 'part O': 0.0003712564969886973, 'awesome O': 0.00045375794076396337, 'dog B-positive': 0.0008278145695364238, 'establishment B-positive': 0.0008278145695364238, 'You O': 0.0007837637158650277, 'completely O': 0.00028875505321343124, 'glass O': 0.0002475043313257982, \"that's O\": 0.00045375794076396337, 'recommend O': 0.001237521656628991, 'setting B-positive': 0.0033112582781456954, 'music B-positive': 0.006622516556291391, 'space B-positive': 0.0016556291390728477, 'lovely O': 0.00016500288755053212, 'Poor O': 0.0001237521656628991, '500 O': 0.0001237521656628991, 'included O': 0.00016500288755053212, 'veal B-positive': 0.0024834437086092716, 'incredible O': 0.00033000577510106425, 'Cafe B-positive': 0.0016556291390728477, 'probably O': 0.00041250721887633036, 'dessert B-negative': 0.013089005235602094, 'expected O': 0.00016500288755053212, 'Delicious O': 0.0001237521656628991, 'creative O': 0.0002475043313257982, 'fun O': 0.0006187608283144955, 'choices I-positive': 0.0016474464579901153, 'eaten O': 0.0005775101064268625, 'many O': 0.0010312680471908258, 'selection B-positive': 0.0024834437086092716, 'wines B-positive': 0.0016556291390728477, 'fine O': 0.00041250721887633036, 'decor B-positive': 0.009933774834437087, 'do O': 0.0008662651596402937, 'empty O': 0.00020625360943816518, 'stomach O': 0.00016500288755053212, 'crust B-positive': 0.0024834437086092716, 'ingredients B-positive': 0.0024834437086092716, 'staff B-positive': 0.01903973509933775, '\" O': 0.0016912795973929543, 'must O': 0.0005362593845392294, 'bring O': 0.00016500288755053212, 'guests O': 0.00016500288755053212, 'always O': 0.0012787723785166241, 'There O': 0.00045375794076396337, 'delivery B-negative': 0.002617801047120419, 'guys I-negative': 0.007518796992481203, 'attitude O': 0.0002475043313257982, 'cannot O': 0.00016500288755053212, 'wrong O': 0.0003712564969886973, 'specials B-positive': 0.0033112582781456954, 'regular B-positive': 0.0016556291390728477, 'disappointment O': 0.00016500288755053212, 'However O': 0.00041250721887633036, 'decor B-neutral': 0.06153846153846154, 'beat O': 0.0001237521656628991, 'lovers O': 0.0001237521656628991, 'chef B-positive': 0.0008278145695364238, 'main O': 8.250144377526606e-05, 'being O': 0.0007425129939773946, 'said O': 0.0004950086626515964, 'since O': 0.0006600115502021285, 'least O': 0.0004950086626515964, 'quick O': 0.00016500288755053212, 'lunch O': 0.0004950086626515964, 'either O': 0.00033000577510106425, 'alone O': 0.00020625360943816518, 'Every O': 0.00016500288755053212, 'called O': 0.00028875505321343124, 'bartender B-positive': 0.0008278145695364238, 'How O': 0.00016500288755053212, 'home O': 0.00028875505321343124, 'impressive O': 0.0001237521656628991, 'Pizza B-positive': 0.005794701986754967, 'terrific O': 0.00016500288755053212, 'pasta I-positive': 0.0032948929159802307, 'stop O': 0.00020625360943816518, '10 O': 0.0002475043313257982, 'while O': 0.0006187608283144955, 'walked O': 0.0003712564969886973, 'For O': 0.0004950086626515964, 'reputation O': 0.0001237521656628991, 'packed O': 0.00020625360943816518, 'reason O': 0.00016500288755053212, 'customer B-negative': 0.010471204188481676, 'service I-negative': 0.03759398496240601, 'cold O': 0.0004950086626515964, 'down O': 0.0007012622720897616, 'begin O': 0.00020625360943816518, 'previous O': 0.0001237521656628991, 'used O': 0.00020625360943816518, 'place B-negative': 0.06282722513089005, 'absolutely O': 0.0004950086626515964, 'too O': 0.0021037868162692847, 'Service B-positive': 0.0074503311258278145, 'Had O': 0.00016500288755053212, 'Yes O': 0.0001237521656628991, 'certainly O': 0.00020625360943816518, 'slightly O': 0.00016500288755053212, 'menu B-negative': 0.010471204188481676, 'prepared O': 0.0003712564969886973, 'done O': 0.0002475043313257982, 'work O': 0.00033000577510106425, 'Service B-neutral': 0.03076923076923077, 'five O': 0.0001237521656628991, 'big O': 0.0007012622720897616, 'variety O': 0.0002475043313257982, 'delivery B-positive': 0.0016556291390728477, 'spectacular O': 0.00020625360943816518, 'give O': 0.00045375794076396337, 'them O': 0.0006187608283144955, 'By O': 0.00016500288755053212, 'Best O': 0.0007012622720897616, 'vibe B-positive': 0.0033112582781456954, 'owner B-positive': 0.0024834437086092716, 'super O': 0.0001237521656628991, 'fast O': 0.0005362593845392294, 'again O': 0.0010725187690784589, 'bar B-positive': 0.0033112582781456954, 'between O': 0.0001237521656628991, 'two O': 0.0005775101064268625, 'price B-neutral': 0.015384615384615385, '#UNK# I-neutral': 0.21739130434782608, 'dinner I-neutral': 0.043478260869565216, 'NY O': 0.00041250721887633036, 'Italian O': 0.00028875505321343124, 'Food O': 4.125072188763303e-05, 'dont O': 0.0002475043313257982, 'intimate O': 0.0002475043313257982, 'may O': 0.0005362593845392294, 'feel O': 0.0007837637158650277, 'little O': 0.0010312680471908258, 'crowded O': 0.00028875505321343124, 'friends O': 0.0007425129939773946, 'date O': 0.0005362593845392294, 'One O': 0.00028875505321343124, 'pleasantly O': 0.00028875505321343124, 'surprised O': 0.00020625360943816518, 'miss O': 0.00016500288755053212, 'ambiance B-positive': 0.005794701986754967, 'dinning O': 0.0001237521656628991, 'room O': 0.00028875505321343124, 'Sea B-positive': 0.0008278145695364238, 'fairly O': 0.00016500288755053212, 'priced O': 0.0003712564969886973, 'weekends O': 0.00020625360943816518, 'private O': 0.0001237521656628991, 'party O': 0.00041250721887633036, 'celebrate O': 0.0001237521656628991, 'birthday O': 0.0004950086626515964, 'rolls B-positive': 0.005794701986754967, 'rolls I-positive': 0.004942339373970346, 'staff I-negative': 0.03007518796992481, 'business O': 0.00020625360943816518, 'its O': 0.0006600115502021285, 'cake I-positive': 0.0016474464579901153, 'dessert I-positive': 0.004942339373970346, 'In O': 0.0003712564969886973, 'past O': 0.00020625360943816518, 'tasted O': 0.0005775101064268625, 'kind O': 0.00016500288755053212, 'waiter B-positive': 0.006622516556291391, 'visited O': 0.00020625360943816518, 'during O': 0.00016500288755053212, 'Restaurant O': 4.125072188763303e-05, 'tried O': 0.0004950086626515964, '35 O': 0.0001237521656628991, 'On O': 0.00016500288755053212, 'our O': 0.0020625360943816516, 'waiter B-negative': 0.020942408376963352, 'staff B-negative': 0.034031413612565446, 'waited O': 0.00033000577510106425, 'Japanese O': 0.00033000577510106425, 'seated O': 0.0005775101064268625, 'point O': 0.00020625360943816518, 'Restaurant B-positive': 0.0016556291390728477, 'Saul I-positive': 0.0016474464579901153, 'Street O': 0.00016500288755053212, 'lot O': 0.0006187608283144955, 'impressed O': 0.00028875505321343124, 'spent O': 0.00016500288755053212, 'tons O': 0.0001237521656628991, 'money O': 0.0004950086626515964, 'chef B-negative': 0.005235602094240838, 'special I-negative': 0.015037593984962405, 'dinner I-negative': 0.007518796992481203, 'comes O': 0.00020625360943816518, 'large O': 0.00033000577510106425, 'portions B-positive': 0.0041390728476821195, 'asked O': 0.0005775101064268625, 'open O': 0.00016500288755053212, 'sandwich O': 0.00016500288755053212, 'manager B-negative': 0.020942408376963352, 'take O': 0.0006187608283144955, 'spend O': 0.0001237521656628991, 'something O': 0.00020625360943816518, 'offer O': 0.00016500288755053212, 'menu B-positive': 0.009933774834437087, 'often O': 0.00041250721887633036, 'fish I-positive': 0.006589785831960461, 'seafood B-positive': 0.004966887417218543, 'setting I-positive': 0.0016474464579901153, 'West O': 0.0001237521656628991, 'Village O': 0.0002475043313257982, 'bottles I-negative': 0.007518796992481203, 'water I-negative': 0.007518796992481203, '8 O': 0.00020625360943816518, 'piece O': 0.00033000577510106425, 'potato B-positive': 0.0016556291390728477, 'dry O': 0.00016500288755053212, 'After O': 0.00033000577510106425, 'Seattle O': 0.00020625360943816518, \"Ray's B-positive\": 0.0016556291390728477, 'try O': 0.001155020212853725, 'caviar O': 4.125072188763303e-05, 'salmon B-positive': 0.0008278145695364238, 'crab B-positive': 0.0033112582781456954, 'salad I-positive': 0.008237232289950576, 'As O': 0.0002475043313257982, 'particularly O': 0.00016500288755053212, 'true O': 0.0001237521656628991, 'conversation O': 0.00020625360943816518, 'meal O': 0.0002475043313257982, 'greatest O': 0.00016500288755053212, 'Sushi B-positive': 0.005794701986754967, 'dessert O': 0.00020625360943816518, 'drink O': 0.0002475043313257982, 'spinach B-negative': 0.005235602094240838, 'mashed O': 4.125072188763303e-05, 'potatoes O': 4.125072188763303e-05, 'Always O': 0.00020625360943816518, 'Suan B-positive': 0.0024834437086092716, 'places O': 0.0010312680471908258, 'Although O': 0.0001237521656628991, 'could O': 0.0006600115502021285, 'considering O': 0.0001237521656628991, 'put O': 0.0001237521656628991, 'Service B-negative': 0.020942408376963352, 'ok O': 0.0004950086626515964, 'expect O': 0.00020625360943816518, 'desert O': 8.250144377526606e-05, 'creme I-positive': 0.004942339373970346, 'brulee I-positive': 0.004942339373970346, 'la O': 8.250144377526606e-05, 'yummy O': 0.00020625360943816518, 'totally O': 0.00016500288755053212, 'weird O': 0.0001237521656628991, 'decor B-negative': 0.002617801047120419, 'yet O': 0.00033000577510106425, 'recently O': 0.00016500288755053212, 'summer O': 0.0001237521656628991, 'patio B-positive': 0.0016556291390728477, 'people B-positive': 0.0041390728476821195, 'actually O': 0.00041250721887633036, 'Chinese O': 0.0001237521656628991, 'location B-neutral': 0.03076923076923077, 'tables B-negative': 0.005235602094240838, 'way O': 0.0008662651596402937, 'close O': 0.00020625360943816518, 'menu B-neutral': 0.03076923076923077, 'wine B-negative': 0.002617801047120419, 'list I-negative': 0.007518796992481203, 'ordered O': 0.0010725187690784589, 'quickly O': 0.00020625360943816518, 'fried B-positive': 0.0024834437086092716, 'oysters I-positive': 0.0032948929159802307, 'clams I-positive': 0.004942339373970346, 'tiny O': 0.0002475043313257982, 'portion O': 8.250144377526606e-05, 'maybe O': 0.00016500288755053212, 'Price O': 0.00016500288755053212, 'quality O': 0.0007837637158650277, 'fish B-negative': 0.015706806282722512, 'return O': 0.0004950086626515964, 'serve O': 0.00033000577510106425, 'outside O': 0.0002475043313257982, 'Too O': 0.00016500288755053212, 'And O': 0.0005362593845392294, 'noodles B-positive': 0.0016556291390728477, 'rice B-positive': 0.0016556291390728477, 'dishes I-positive': 0.008237232289950576, 'for I-negative': 0.007518796992481203, 'main I-negative': 0.007518796992481203, 'entree I-negative': 0.007518796992481203, 'salmon B-negative': 0.005235602094240838, 'girlfriend O': 0.0001237521656628991, 'ignore O': 0.0001237521656628991, 'need O': 0.00028875505321343124, 'arrogant O': 0.0001237521656628991, \"doesn't O\": 0.00033000577510106425, 'place I-positive': 0.009884678747940691, 'oz I-positive': 0.0016474464579901153, 'steak I-positive': 0.0032948929159802307, 'owners B-positive': 0.0008278145695364238, 'beer B-positive': 0.0016556291390728477, 'selection I-positive': 0.008237232289950576, 'highly O': 0.0008250144377526607, 'Mioposto B-positive': 0.0016556291390728477, 'anyone O': 0.00016500288755053212, 'top O': 0.0007012622720897616, 'caviar B-positive': 0.0016556291390728477, 'real O': 0.00033000577510106425, 'Went O': 0.00028875505321343124, 'Have O': 0.00020625360943816518, 'of I-positive': 0.0214168039538715, 'thin I-positive': 0.0016474464579901153, 'crust I-positive': 0.0016474464579901153, 'pizza I-positive': 0.018121911037891267, 'slice I-positive': 0.0016474464579901153, 'He O': 0.0001237521656628991, 'offers O': 0.00016500288755053212, 'Food B-positive': 0.0074503311258278145, 'fish B-positive': 0.009105960264900662, 'second O': 0.00016500288755053212, 'hang O': 0.00016500288755053212, 'Over O': 0.0001237521656628991, 'his O': 0.00028875505321343124, 'treated O': 0.0001237521656628991, 'does O': 0.00020625360943816518, 'able O': 0.0001237521656628991, 'consistent O': 0.00016500288755053212, 'Mizu O': 8.250144377526606e-05, 'anywhere O': 0.0001237521656628991, 'Oh O': 0.00016500288755053212, 'view B-positive': 0.004966887417218543, 'wonderful O': 0.0006187608283144955, 'shared O': 0.00016500288755053212, 'portion B-positive': 0.0008278145695364238, 'sushi B-positive': 0.012417218543046357, 'beverage B-positive': 0.0008278145695364238, 'Thai B-negative': 0.007853403141361256, 'restaurant I-negative': 0.007518796992481203, 'rice O': 0.00033000577510106425, 'mouth O': 0.00016500288755053212, 'flavor O': 0.00028875505321343124, 'happy O': 0.00028875505321343124, 'Italian B-positive': 0.0016556291390728477, 'restaurant I-positive': 0.006589785831960461, 'run O': 0.0001237521656628991, 'group O': 0.00016500288755053212, 'together O': 0.00020625360943816518, 'new O': 0.00033000577510106425, 'these O': 0.00028875505321343124, 'weather O': 0.00016500288755053212, 'Friday O': 0.0001237521656628991, 'needs O': 0.0002475043313257982, 'those O': 0.00033000577510106425, 'rolls B-neutral': 0.015384615384615385, 'sashimi B-negative': 0.002617801047120419, 'excited O': 0.0001237521656628991, 'hard O': 0.00020625360943816518, 'waitress B-negative': 0.02617801047120419, 'attention O': 0.0001237521656628991, 'restaurant B-neutral': 0.03076923076923077, 'sit O': 0.00016500288755053212, 'taken O': 0.0001237521656628991, 'live B-positive': 0.0008278145695364238, 'Salad O': 8.250144377526606e-05, 'beef O': 0.0001237521656628991, 'innovative O': 0.0001237521656628991, 'salt O': 8.250144377526606e-05, 'lobster B-positive': 0.0033112582781456954, 'sandwich I-positive': 0.004942339373970346, 'although O': 0.00028875505321343124, 'nearly O': 0.0001237521656628991, 'enough O': 0.0006600115502021285, 'back B-positive': 0.0024834437086092716, 'room I-positive': 0.004942339373970346, 'lamb I-positive': 0.0016474464579901153, 'in I-positive': 0.0032948929159802307, 'wine I-positive': 0.008237232289950576, 'Bukhara B-positive': 0.0016556291390728477, '5 O': 0.0003712564969886973, 'Kobe O': 0.0001237521656628991, '’ I-positive': 0.0032948929159802307, 's I-positive': 0.0032948929159802307, 'crust O': 0.0001237521656628991, 'toppings O': 8.250144377526606e-05, 'wait B-neutral': 0.015384615384615385, 'waiting O': 0.0003712564969886973, 'place B-neutral': 0.03076923076923077, 'experienced O': 0.0001237521656628991, 'person O': 0.00033000577510106425, 'Thai O': 0.00033000577510106425, 'chicken O': 0.0002475043313257982, 'well O': 0.001402524544179523, 'exceptional O': 0.0002475043313257982, 'waiters B-positive': 0.004966887417218543, 'Yamato B-positive': 0.0016556291390728477, 'sashimi O': 8.250144377526606e-05, 'salad O': 4.125072188763303e-05, 'pizza O': 0.0003712564969886973, 'margherita B-positive': 0.0024834437086092716, 'east B-positive': 0.0008278145695364238, 'village I-positive': 0.0016474464579901153, 'looks B-positive': 0.0008278145695364238, 'meals B-negative': 0.007853403141361256, 'apology O': 0.00016500288755053212, 'received O': 0.0002475043313257982, 'La O': 0.0001237521656628991, 'york O': 8.250144377526606e-05, 'hands O': 0.0001237521656628991, 'specialty O': 8.250144377526606e-05, 'egg B-positive': 0.0008278145695364238, 'white I-positive': 0.0016474464579901153, 'couple O': 0.00033000577510106425, 'anniversary O': 0.0001237521656628991, 'servers B-positive': 0.0024834437086092716, 'Most O': 0.00016500288755053212, 'sweet O': 0.0002475043313257982, 'portions B-negative': 0.007853403141361256, 'plates O': 0.00020625360943816518, 'happens O': 0.00016500288755053212, 'almost O': 0.00028875505321343124, 'oysters B-positive': 0.0008278145695364238, 'No O': 0.0002475043313257982, 'meat B-positive': 0.0008278145695364238, 'salad B-positive': 0.0016556291390728477, 'free O': 0.0001237521656628991, 'reviews O': 0.00041250721887633036, 'wait B-positive': 0.0041390728476821195, 'Never O': 0.0001237521656628991, 'spot B-positive': 0.005794701986754967, 'alot O': 0.0001237521656628991, 'rice B-negative': 0.005235602094240838, 'bigger O': 0.0001237521656628991, 'First O': 0.00016500288755053212, 'house B-positive': 0.0016556291390728477, 'Overpriced O': 0.0001237521656628991, 'accomodating O': 0.00020625360943816518, 'Open B-positive': 0.0016556291390728477, \"I'd O\": 0.00028875505321343124, 'occasion O': 0.00020625360943816518, 'seating I-positive': 0.0032948929159802307, 'months O': 0.0001237521656628991, 'drinks B-positive': 0.008278145695364239, 'sauce B-positive': 0.0016556291390728477, 'cheese B-positive': 0.0016556291390728477, '; O': 0.0006600115502021285, 'menu I-positive': 0.013179571663920923, 'THIS O': 0.0001237521656628991, 'PLACE B-positive': 0.0024834437086092716, 'complained O': 0.0001237521656628991, 'tip O': 0.00020625360943816518, 'Its O': 0.0001237521656628991, 'playing O': 0.0001237521656628991, 'bland O': 0.00041250721887633036, 'oily O': 0.00033000577510106425, 'margaritas B-positive': 0.0016556291390728477, 'THE O': 0.00033000577510106425, 'hummus B-positive': 0.0016556291390728477, 'Uni B-positive': 0.0008278145695364238, 'roll I-positive': 0.016474464579901153, 'tell O': 0.00020625360943816518, 'IT O': 0.00016500288755053212, 'WAS O': 0.0001237521656628991, 'delivered O': 0.00016500288755053212, 'think O': 0.0005362593845392294, 'beef B-negative': 0.002617801047120419, 'and I-negative': 0.03007518796992481, 'soup I-negative': 0.015037593984962405, 'dishes I-negative': 0.015037593984962405, 'hope O': 0.0001237521656628991, 'or I-negative': 0.015037593984962405, 'If O': 0.0009487666034155598, 'seemed O': 0.00016500288755053212, 'possible O': 0.0001237521656628991, 'meal B-negative': 0.010471204188481676, 'inedible O': 0.0001237521656628991, 'mention O': 0.00020625360943816518, 'Toons O': 0.0001237521656628991, '1 O': 0.00028875505321343124, 'relaxing O': 0.0001237521656628991, 'worst O': 0.00033000577510106425, 'excuse O': 0.0001237521656628991, 'Japanese B-negative': 0.005235602094240838, 'food I-negative': 0.007518796992481203, 'Brooklyn O': 0.0002475043313257982, 'seating B-positive': 0.0016556291390728477, 'brunch O': 0.0001237521656628991, 'clean O': 0.0002475043313257982, 'heard O': 0.0001237521656628991, 'items O': 8.250144377526606e-05, 'pancakes B-positive': 0.0024834437086092716, 'Sea O': 0.0001237521656628991, 'chef O': 8.250144377526606e-05, 'fish O': 0.0002475043313257982, 'Blue O': 8.250144377526606e-05, 'Tuna O': 8.250144377526606e-05, 'etc O': 0.00020625360943816518, 'Green B-positive': 0.0016556291390728477, 'tea I-positive': 0.006589785831960461, 'gets O': 0.00033000577510106425, 'should O': 0.0005362593845392294, 'maggot O': 0.0001237521656628991, 'dogs B-positive': 0.0008278145695364238, 'toppings B-positive': 0.0024834437086092716, 'indian B-positive': 0.0024834437086092716, 'size O': 0.00028875505321343124, 'mean O': 0.0002475043313257982, 'Big O': 4.125072188763303e-05, 'Wong O': 4.125072188763303e-05, 'NEVER O': 0.00016500288755053212, 'mediocre O': 0.0002475043313257982, 'Loved O': 0.0001237521656628991, 'dish O': 0.0002475043313257982, 'prawns I-positive': 0.004942339373970346, 'outstanding O': 0.0002475043313257982, 'reservation O': 0.00028875505321343124, 'early O': 0.0001237521656628991, 'bottles O': 8.250144377526606e-05, 'garden O': 4.125072188763303e-05, 'Grill O': 4.125072188763303e-05, 'apart O': 0.0001237521656628991, 'gyro O': 4.125072188763303e-05, 'pasta B-positive': 0.0016556291390728477, 'dishes O': 0.00028875505321343124, 'hall O': 8.250144377526606e-05, 'Food I-positive': 0.0016474464579901153, 'look O': 0.0002475043313257982, \"wouldn't O\": 0.00020625360943816518, \"I'll O\": 0.0002475043313257982, 'beer I-positive': 0.0032948929159802307, 'sitting B-negative': 0.002617801047120419, 'space I-negative': 0.007518796992481203, 'corner O': 0.0001237521656628991, 'Casa B-positive': 0.0016556291390728477, 'La I-positive': 0.0032948929159802307, 'Femme I-positive': 0.0032948929159802307, 'coming O': 0.00041250721887633036, 'Everything O': 0.0003712564969886973, 'holiday O': 0.0001237521656628991, 'line O': 0.0001237521656628991, 'dine O': 0.0003712564969886973, 'vegetarian B-negative': 0.002617801047120419, 'things O': 0.00033000577510106425, 'write O': 0.0001237521656628991, 'review O': 0.0002475043313257982, 'soup I-positive': 0.006589785831960461, 'sushi I-negative': 0.007518796992481203, 'poor O': 0.00033000577510106425, 'feeling B-positive': 0.0008278145695364238, 'space B-negative': 0.005235602094240838, 'hour O': 0.00041250721887633036, 'Will O': 0.00016500288755053212, 'the I-positive': 0.006589785831960461, 'city I-positive': 0.0032948929159802307, 'Decor B-negative': 0.002617801047120419, 'Sunday O': 0.00020625360943816518, 'afternoon O': 0.00016500288755053212, 'loud O': 0.0001237521656628991, 'Chinese I-positive': 0.0032948929159802307, 'belly B-positive': 0.0016556291390728477, 'located O': 0.00020625360943816518, 'specials I-positive': 0.0016474464579901153, 'decide O': 0.0001237521656628991, 'waitress O': 0.00016500288755053212, 'eggplant B-positive': 0.0008278145695364238, \"there's O\": 0.00016500288755053212, 'interior O': 4.125072188763303e-05, 'garden B-positive': 0.0008278145695364238, 'sea B-positive': 0.0016556291390728477, 'village O': 0.00016500288755053212, 'soon O': 0.00016500288755053212, 'Definitely O': 0.00016500288755053212, 'kept O': 0.0001237521656628991, 'server B-negative': 0.005235602094240838, 'Chicken B-negative': 0.002617801047120419, 'enjoyed O': 0.0002475043313257982, '% O': 0.00016500288755053212, 'daring O': 0.0001237521656628991, 'eater O': 0.0001237521656628991, 'front B-negative': 0.005235602094240838, 'house I-negative': 0.015037593984962405, 'later O': 0.0001237521656628991, '4 O': 0.0001237521656628991, 'dogs O': 4.125072188763303e-05, 'event O': 0.0001237521656628991, 'rolls O': 8.250144377526606e-05, 'Overall O': 0.00020625360943816518, 'Green O': 8.250144377526606e-05, 'likely O': 0.00016500288755053212, 'private B-positive': 0.0008278145695364238, 'watching O': 0.0001237521656628991, 'glass B-positive': 0.0016556291390728477, 'pizza B-negative': 0.010471204188481676, 'cheese B-negative': 0.002617801047120419, \"We've O\": 0.0001237521656628991, 'interesting O': 0.00020625360943816518, 'long O': 0.00033000577510106425, 'Prices O': 0.0001237521656628991, 'bathroom O': 8.250144377526606e-05, ':) O': 0.0002475043313257982, 'area O': 0.0003712564969886973, 'Thai B-positive': 0.0033112582781456954, 'fabulous O': 0.00016500288755053212, 'overall O': 0.0001237521656628991, 'please O': 0.0001237521656628991, 'dessert B-positive': 0.0016556291390728477, 'week O': 0.00028875505321343124, 'decor I-positive': 0.0032948929159802307, 'enormous O': 0.0001237521656628991, 'white B-positive': 0.0016556291390728477, 'tuna O': 8.250144377526606e-05, \"Ray's O\": 0.00016500288755053212, 'scallops O': 4.125072188763303e-05, 'crab O': 4.125072188763303e-05, 'sauce I-positive': 0.004942339373970346, 'Drinks B-positive': 0.0016556291390728477, 'however O': 0.0003712564969886973, 'inventive O': 0.0001237521656628991, '( I-positive': 0.009884678747940691, ') I-positive': 0.009884678747940691, 'sum I-neutral': 0.043478260869565216, 'Mioposto O': 4.125072188763303e-05, 'server B-positive': 0.0041390728476821195, \"Ray's B-neutral\": 0.015384615384615385, 'young O': 0.0001237521656628991, 'dinner B-negative': 0.005235602094240838, 'he O': 0.0005362593845392294, 'Uni O': 8.250144377526606e-05, 'dogs I-positive': 0.0016474464579901153, 'notch O': 0.00016500288755053212, \"they're O\": 0.0001237521656628991, 'type O': 0.0001237521656628991, 'local O': 0.0001237521656628991, 'walk O': 0.00016500288755053212, 'sitting O': 0.00028875505321343124, 'except O': 0.00016500288755053212, '6 O': 0.00016500288755053212, 'bathroom B-negative': 0.005235602094240838, 'cold B-positive': 0.0008278145695364238, 'share O': 0.0002475043313257982, 'delivery O': 8.250144377526606e-05, 'drinks B-negative': 0.005235602094240838, 'desserts B-positive': 0.0008278145695364238, 'appetizer B-positive': 0.0033112582781456954, 'beer O': 8.250144377526606e-05, 'Yamato O': 4.125072188763303e-05, 'fair O': 8.250144377526606e-05, 'modern B-positive': 0.0016556291390728477, 'Japanese I-positive': 0.0032948929159802307, 'spot O': 0.00016500288755053212, 'sauce O': 0.0001237521656628991, 'prawns B-positive': 0.0008278145695364238, 'cut O': 0.0001237521656628991, 'pieces O': 8.250144377526606e-05, 'banana B-positive': 0.0016556291390728477, 'chocolate I-positive': 0.0016474464579901153, 'green B-positive': 0.0008278145695364238, 'tempura I-positive': 0.004942339373970346, 'by I-positive': 0.0016474464579901153, 'glass I-positive': 0.0016474464579901153, 'Taiwanese B-positive': 0.0016556291390728477, 'wines I-positive': 0.0016474464579901153, 'meals O': 8.250144377526606e-05, 'bottle B-positive': 0.0016556291390728477, 'New B-positive': 0.0008278145695364238, 'quantity O': 0.0001237521656628991, 'skip O': 0.0001237521656628991, 'matter O': 0.00020625360943816518, 'cause O': 0.0001237521656628991, 'cooked O': 0.00033000577510106425, 'and I-neutral': 0.043478260869565216, 'shrimp I-neutral': 0.043478260869565216, 'appetizer I-neutral': 0.043478260869565216, 'alright O': 0.0001237521656628991, 'Pizza O': 8.250144377526606e-05, 'Dokebi O': 0.0001237521656628991, 'chocolate O': 4.125072188763303e-05, 'saturday O': 0.0001237521656628991, 'vegetarian O': 8.250144377526606e-05, 'sooo O': 0.0001237521656628991, 'salmon I-negative': 0.007518796992481203, 'appetizer I-negative': 0.015037593984962405, 'saw O': 0.00016500288755053212, 'forgotten O': 0.0001237521656628991, 'Thai I-positive': 0.004942339373970346, 'breakfast O': 0.0001237521656628991, 'L O': 0.0001237521656628991, 'City O': 0.0002475043313257982, 'charming O': 0.00016500288755053212, '$ I-positive': 0.0016474464579901153, 'Mizu B-positive': 0.0024834437086092716, 'The B-negative': 0.005235602094240838, 'Four I-negative': 0.015037593984962405, 'Seasons I-negative': 0.015037593984962405, 'forget O': 0.00016500288755053212, 'sometimes O': 0.00033000577510106425, 'Maybe O': 0.00016500288755053212, 'owners O': 8.250144377526606e-05, 'wish O': 0.00016500288755053212, 'pieces B-negative': 0.002617801047120419, 'okay O': 0.00028875505321343124, 'smile O': 0.0001237521656628991, 'people B-negative': 0.002617801047120419, 'meat O': 0.0002475043313257982, '100 O': 0.0001237521656628991, 'guess O': 0.00020625360943816518, 'popular O': 0.0001237521656628991, 'Korean O': 0.0001237521656628991, 'Well O': 0.0001237521656628991, 'drive O': 0.00016500288755053212, 'choice O': 0.00016500288755053212, 'dumplings I-positive': 0.004942339373970346, 'sashimi I-positive': 0.0016474464579901153, 'fix O': 8.250144377526606e-05, 'stuff I-positive': 0.0016474464579901153, 'service B-neutral': 0.03076923076923077, 'Blue B-positive': 0.0016556291390728477, 'Tuna I-positive': 0.0032948929159802307, 'cool O': 0.00020625360943816518, 'items I-positive': 0.0016474464579901153, 'To O': 0.0002475043313257982, 'stopped O': 0.0001237521656628991, 'la I-negative': 0.007518796992481203, 'new I-positive': 0.0016474464579901153, 'york I-positive': 0.0016474464579901153, 'prompt O': 0.00016500288755053212, 'appetizing O': 0.00016500288755053212, 'white O': 8.250144377526606e-05, 'NO O': 0.0001237521656628991, 'salmon O': 0.00016500288755053212, 'scallops B-positive': 0.0016556291390728477, 'black O': 8.250144377526606e-05, 'makes O': 0.00020625360943816518, 'hungry O': 0.0001237521656628991, 'Disney O': 0.0001237521656628991, 'bagels B-negative': 0.002617801047120419, 'Finally O': 0.0001237521656628991, 'face O': 0.0001237521656628991, 'banana O': 4.125072188763303e-05, 'tempura O': 4.125072188763303e-05, 'hear O': 0.0001237521656628991, 'table B-positive': 0.0008278145695364238, 'idea O': 0.00016500288755053212, 'cuisine I-negative': 0.007518796992481203, 'buns O': 8.250144377526606e-05, 'hostess O': 4.125072188763303e-05, 'replied O': 0.00016500288755053212, 'positive O': 0.0001237521656628991, 'seafood O': 4.125072188763303e-05, 'chance O': 0.0001237521656628991, 'French B-positive': 0.0016556291390728477, 'Mioposto B-negative': 0.002617801047120419, 'course I-positive': 0.0032948929159802307, 'specialty B-positive': 0.0008278145695364238, 'ambience B-positive': 0.005794701986754967, 'juice I-positive': 0.0032948929159802307, 'loved O': 0.00028875505321343124, 'reasonably O': 0.0002475043313257982, 'spinach O': 8.250144377526606e-05, 'trust O': 0.0001237521656628991, '2nd O': 0.0001237521656628991, 'cost O': 0.00020625360943816518, 'goat B-negative': 0.002617801047120419, 'cheese I-negative': 0.007518796992481203, 'salad I-negative': 0.007518796992481203, 'goat O': 4.125072188763303e-05, 'penne B-negative': 0.002617801047120419, '/ I-negative': 0.007518796992481203, 'chicken I-negative': 0.015037593984962405, 'disgusting O': 0.0001237521656628991, 'bagels O': 8.250144377526606e-05, 'own O': 0.0001237521656628991, 'plate O': 0.00016500288755053212, 'Open O': 8.250144377526606e-05, 'appetizers B-positive': 0.0016556291390728477, 'japanese B-positive': 0.0016556291390728477, 'Atmosphere B-positive': 0.0024834437086092716, 'consider O': 0.00020625360943816518, 'She O': 0.00016500288755053212, 'salads I-positive': 0.0016474464579901153, 'honestly O': 0.0001237521656628991, 'japanese O': 8.250144377526606e-05, \"Water's O\": 4.125072188763303e-05, 'Edge O': 4.125072188763303e-05, 'eggs B-negative': 0.002617801047120419, 'entire O': 0.00016500288755053212, 'hostess B-negative': 0.005235602094240838, 'dumplings B-positive': 0.0016556291390728477, 'pad B-positive': 0.0016556291390728477, 'chicken I-positive': 0.004942339373970346, 'pad B-negative': 0.002617801047120419, 'steak I-negative': 0.007518796992481203, 'tuna B-negative': 0.005235602094240838, 'already O': 0.00016500288755053212, 'ahead O': 0.00016500288755053212, 'rolls B-negative': 0.005235602094240838, 'steak B-negative': 0.002617801047120419, 'Grill I-positive': 0.0032948929159802307, 'survives O': 0.0001237521656628991, 'dishes B-negative': 0.010471204188481676, 'ambience B-negative': 0.005235602094240838, 'pita O': 4.125072188763303e-05, 'hummus O': 4.125072188763303e-05, 'platter O': 8.250144377526606e-05, 'month O': 0.0001237521656628991, 'sushi B-negative': 0.010471204188481676, 'chef I-negative': 0.007518796992481203, 'looks O': 0.0001237521656628991, 'looked O': 0.00028875505321343124, 'paid O': 0.0002475043313257982, 'further O': 0.0001237521656628991, 'eggplant B-negative': 0.002617801047120419, 'margaritas B-negative': 0.002617801047120419, 'charge O': 0.0001237521656628991, 'gone O': 0.00020625360943816518, 'cuisine B-positive': 0.0008278145695364238, 'margaritas B-neutral': 0.015384615384615385, 'waiter O': 8.250144377526606e-05, 'add O': 0.0001237521656628991, 'generally O': 0.0001237521656628991, 'interior B-negative': 0.005235602094240838, 'picked O': 0.0001237521656628991, 'asparagus B-positive': 0.0016556291390728477, '7 O': 0.0001237521656628991, 'feel B-positive': 0.0016556291390728477, 'customer O': 4.125072188763303e-05, 'onions O': 4.125072188763303e-05, 'St O': 0.00016500288755053212, 'inexpensive O': 0.0001237521656628991, 'Go B-negative': 0.002617801047120419, 'Go I-negative': 0.007518796992481203, 'stuff O': 0.0001237521656628991, 'dinner B-positive': 0.0008278145695364238, 'given O': 0.0001237521656628991, \"i've O\": 0.0001237521656628991, 'sake I-positive': 0.0032948929159802307, 'Pizza I-positive': 0.0016474464579901153, 'gyro B-positive': 0.0016556291390728477, 'discount O': 0.0001237521656628991, 'Japanese B-positive': 0.0008278145695364238, ', I-positive': 0.008237232289950576, 'mushroom B-positive': 0.0008278145695364238, 'Big B-positive': 0.0016556291390728477, 'Wong I-positive': 0.0032948929159802307, 'brought O': 0.00016500288755053212, 'noodles O': 4.125072188763303e-05, 'Indian B-neutral': 0.015384615384615385, 'food I-neutral': 0.043478260869565216, 'style O': 8.250144377526606e-05, 'Saul B-positive': 0.0008278145695364238, 'beef I-positive': 0.0016474464579901153, 'Fast I-positive': 0.0016474464579901153, 'cake O': 4.125072188763303e-05, 'Delivery B-negative': 0.005235602094240838, 'prawns I-negative': 0.007518796992481203, 'Drinks B-negative': 0.002617801047120419, \"weren't O\": 0.00016500288755053212, 'Shabu O': 8.250144377526606e-05, 'mushroom B-negative': 0.002617801047120419, 'sauce I-negative': 0.007518796992481203, 'Decor B-positive': 0.0016556291390728477, 'lunch B-positive': 0.0016556291390728477, 'belly O': 0.0001237521656628991, 'black B-positive': 0.0008278145695364238, 'late B-positive': 0.0008278145695364238, 'night I-positive': 0.0016474464579901153, 'asking O': 0.0001237521656628991, 'tables O': 0.0001237521656628991, 'tuna B-positive': 0.0016556291390728477, 'pita B-positive': 0.0008278145695364238, 'outside B-positive': 0.0008278145695364238, 'table I-positive': 0.0016474464579901153, 'juice B-negative': 0.002617801047120419, 'The B-neutral': 0.015384615384615385, 'Four I-neutral': 0.043478260869565216, 'Seasons I-neutral': 0.043478260869565216, 'seem O': 0.00016500288755053212, 'green O': 4.125072188763303e-05, 'over I-positive': 0.0032948929159802307, 'bathroom I-negative': 0.007518796992481203, 'on I-positive': 0.004942339373970346, 'platter I-positive': 0.0016474464579901153, 'potatoes B-positive': 0.0008278145695364238, 'Grilled B-positive': 0.0024834437086092716, 'entree O': 0.0001237521656628991, 'Everyone O': 0.0001237521656628991, 'onions B-positive': 0.0008278145695364238, 'eggs B-positive': 0.0008278145695364238, 'to I-negative': 0.007518796992481203, 'the I-negative': 0.022556390977443608, 'shrimp O': 4.125072188763303e-05, '\" B-negative': 0.002617801047120419, 'salt I-negative': 0.007518796992481203, 'shrimp I-negative': 0.007518796992481203, '\" I-negative': 0.007518796992481203, 'Saul O': 4.125072188763303e-05, 'neighborhood B-positive': 0.0008278145695364238, 'house O': 8.250144377526606e-05, 'dress O': 0.0001237521656628991, 'spicy B-positive': 0.0024834437086092716, 'Be O': 0.00016500288755053212, 'oyster B-positive': 0.0008278145695364238, 'enjoying O': 0.0001237521656628991, 'sense O': 0.0001237521656628991, 'oil I-positive': 0.0016474464579901153, 'Avenue O': 8.250144377526606e-05, 'lobster I-positive': 0.0032948929159802307, 'Village B-positive': 0.0008278145695364238, 'atmosphere B-neutral': 0.03076923076923077, 'extra O': 0.00016500288755053212, 'chocolate B-positive': 0.0008278145695364238, 'bread I-positive': 0.0016474464579901153, \"Water's B-positive\": 0.0016556291390728477, 'Edge I-positive': 0.0032948929159802307, 'fun I-negative': 0.015037593984962405, 'pork B-negative': 0.005235602094240838, 'Taiwanese O': 0.0001237521656628991, 'soggy O': 0.0001237521656628991, 'meat I-positive': 0.0016474464579901153, '1st O': 0.0001237521656628991, 'servers B-negative': 0.005235602094240838, 'Flatbush O': 0.0001237521656628991, 'Farm O': 0.0001237521656628991, 'owners B-negative': 0.002617801047120419, \"' I-negative\": 0.007518796992481203, 'egg O': 4.125072188763303e-05, 'pork O': 4.125072188763303e-05, 'bagel B-positive': 0.0008278145695364238, 'eggs I-positive': 0.0016474464579901153, 'orange I-negative': 0.007518796992481203, '/ I-positive': 0.0032948929159802307, 'mozzarella B-positive': 0.0008278145695364238, 'Italian I-positive': 0.0016474464579901153, 'cheese I-positive': 0.006589785831960461, 'Four O': 4.125072188763303e-05, 'Seasons O': 4.125072188763303e-05, 'squid I-negative': 0.007518796992481203, 'owner O': 4.125072188763303e-05, 'Ave O': 8.250144377526606e-05, 'margherita O': 4.125072188763303e-05, 'expectations O': 0.0001237521656628991, 'sum O': 4.125072188763303e-05, 'son O': 0.0001237521656628991, 'style I-positive': 0.004942339373970346, 'Sea I-positive': 0.0016474464579901153, 'squid O': 8.250144377526606e-05, 'mashed B-positive': 0.0008278145695364238, 'potatoes I-positive': 0.0032948929159802307, 'describe O': 0.0001237521656628991, 'waitstaff B-positive': 0.0033112582781456954, 'relaxed O': 0.00016500288755053212, 'Chicken I-positive': 0.0016474464579901153, 'bar B-negative': 0.002617801047120419, 'drinks I-negative': 0.007518796992481203, 'hate O': 0.0001237521656628991, 'staff O': 4.125072188763303e-05, 'PLACE B-negative': 0.002617801047120419, 'sister O': 0.0001237521656628991, 'waitress B-neutral': 0.015384615384615385, 'Salad I-positive': 0.0016474464579901153, 'goat I-positive': 0.0016474464579901153, 'special B-positive': 0.0008278145695364238, 'garden I-positive': 0.0016474464579901153, 'area I-positive': 0.0032948929159802307, 'sashimi B-positive': 0.0008278145695364238, 'Chicken I-negative': 0.007518796992481203, 'Ive O': 0.00016500288755053212, 'requested O': 0.0001237521656628991, 'appetizer O': 0.00016500288755053212, 'steak O': 8.250144377526606e-05, 'potato O': 4.125072188763303e-05, 'dining B-positive': 0.0016556291390728477, 'French I-positive': 0.0016474464579901153, 'hall B-negative': 0.002617801047120419, 'bar I-positive': 0.0016474464579901153, 'drawback O': 0.0001237521656628991, 'eggs O': 4.125072188763303e-05, 'La B-positive': 0.0008278145695364238, 'folks O': 0.0001237521656628991, 'fish I-negative': 0.007518796992481203, 'plate B-negative': 0.002617801047120419, 'young B-negative': 0.002617801047120419, 'shrimp B-positive': 0.0008278145695364238, 'appetizers I-positive': 0.0016474464579901153, 'lobster B-neutral': 0.015384615384615385, 'dining I-positive': 0.0032948929159802307, 'belly I-negative': 0.007518796992481203, 'Pizza B-negative': 0.002617801047120419, 'patio I-positive': 0.0016474464579901153, 'Cafe O': 8.250144377526606e-05, 'oysters O': 4.125072188763303e-05, 'goat B-positive': 0.0016556291390728477, 'top I-positive': 0.0016474464579901153, 'spinach I-positive': 0.0016474464579901153, 'seating B-negative': 0.002617801047120419, 'guys O': 0.0001237521656628991, 'half B-positive': 0.0016556291390728477, 'half I-positive': 0.0016474464579901153, 'eggplant O': 4.125072188763303e-05, 'oyster O': 8.250144377526606e-05, 'stay O': 0.0001237521656628991, 'Drinks O': 4.125072188763303e-05, 'wine B-neutral': 0.015384615384615385, '$ B-positive': 0.0008278145695364238, '10 I-positive': 0.0032948929159802307, '- I-positive': 0.0016474464579901153, 'piece I-positive': 0.0016474464579901153, 'sum I-positive': 0.0016474464579901153, 'ambience I-positive': 0.0016474464579901153, 'modern O': 4.125072188763303e-05, 'bottle O': 4.125072188763303e-05, 'bottles B-positive': 0.0016556291390728477, 'wait B-negative': 0.002617801047120419, 'Chinese B-positive': 0.0016556291390728477, 'crowd B-positive': 0.0008278145695364238, 'sushi I-positive': 0.0032948929159802307, 'um O': 0.0001237521656628991, 'owner B-negative': 0.002617801047120419, 'Sushi O': 8.250144377526606e-05, 'crab I-positive': 0.0032948929159802307, 'choices O': 0.0001237521656628991, 'dumplings O': 4.125072188763303e-05, 'pancakes I-neutral': 0.043478260869565216, 'fried B-neutral': 0.015384615384615385, 'dumplings I-neutral': 0.043478260869565216, 'mushroom O': 4.125072188763303e-05, 'regular B-neutral': 0.015384615384615385, 'menu I-neutral': 0.043478260869565216, 'Delivery B-positive': 0.0016556291390728477, 'Indian I-positive': 0.0016474464579901153, 'pita B-negative': 0.002617801047120419, 'bread I-negative': 0.007518796992481203, 'pancakes O': 8.250144377526606e-05, 'pasta B-negative': 0.002617801047120419, 'penne I-negative': 0.007518796992481203, 'slice O': 4.125072188763303e-05, 'penne O': 4.125072188763303e-05, 'cuisine O': 8.250144377526606e-05, 'Korean B-negative': 0.002617801047120419, 'fair I-negative': 0.007518796992481203, 'plate I-positive': 0.0032948929159802307, 'setting O': 8.250144377526606e-05, 'waitstaff B-negative': 0.002617801047120419, 'sea I-positive': 0.0016474464579901153, 'scallops I-positive': 0.0016474464579901153, 'chicken B-negative': 0.005235602094240838, 'in I-negative': 0.015037593984962405, 'salads I-negative': 0.007518796992481203, 'stuff I-negative': 0.007518796992481203, 'roll O': 0.00016500288755053212, 'regular O': 8.250144377526606e-05, 'The B-positive': 0.0008278145695364238, 'Four I-positive': 0.0016474464579901153, 'Seasons I-positive': 0.0016474464579901153, 'family B-positive': 0.0016556291390728477, 'good B-positive': 0.0008278145695364238, 'bagel B-negative': 0.002617801047120419, 'tea O': 4.125072188763303e-05, 'side B-neutral': 0.015384615384615385, 'dishes I-neutral': 0.043478260869565216, 'cake I-negative': 0.007518796992481203, 'pork I-negative': 0.007518796992481203, 'buns I-negative': 0.007518796992481203, 'egg B-negative': 0.002617801047120419, 'spinach B-positive': 0.0008278145695364238, 'Shabu B-positive': 0.0008278145695364238, 'Shabu I-positive': 0.0016474464579901153, 'Fast O': 8.250144377526606e-05, 'waiters O': 4.125072188763303e-05, 'dishes B-neutral': 0.015384615384615385, 'bartender O': 8.250144377526606e-05, 'small I-positive': 0.0016474464579901153, 'size I-positive': 0.0016474464579901153, 'mushroom I-negative': 0.007518796992481203, 'pasta I-negative': 0.007518796992481203, 'seafood B-negative': 0.002617801047120419, 'price I-positive': 0.0016474464579901153, 'deal I-positive': 0.0016474464579901153, 'portions B-neutral': 0.03076923076923077, 'fried I-positive': 0.0016474464579901153, 'to I-positive': 0.0016474464579901153, 'four B-positive': 0.0008278145695364238, 'fix I-positive': 0.0016474464579901153, 'scene O': 4.125072188763303e-05, 'sauce B-negative': 0.002617801047120419, 'seafood I-positive': 0.0016474464579901153, 'orange B-negative': 0.005235602094240838, 'juice I-negative': 0.015037593984962405, 'guy I-negative': 0.007518796992481203, 'patio O': 4.125072188763303e-05, 'desserts O': 0.0001237521656628991, 'frozen B-neutral': 0.015384615384615385, 'black I-neutral': 0.043478260869565216, 'green I-positive': 0.0016474464579901153, 'beer B-negative': 0.002617801047120419, 'side I-negative': 0.007518796992481203, 'appetizer B-negative': 0.002617801047120419, 'selection I-negative': 0.007518796992481203, 'mozzarella O': 4.125072188763303e-05, 'desert B-positive': 0.0008278145695364238, 'slice B-neutral': 0.015384615384615385, 'of I-neutral': 0.043478260869565216, 'NYC I-neutral': 0.043478260869565216, 'pizza I-neutral': 0.043478260869565216, 'unpleasant O': 0.0001237521656628991, 'onions I-positive': 0.0016474464579901153, 'asparagus I-positive': 0.0016474464579901153, 'bread O': 4.125072188763303e-05, 'manager B-positive': 0.0008278145695364238, 'dish B-positive': 0.0008278145695364238, 'rice I-positive': 0.0016474464579901153, 'spicy I-positive': 0.0016474464579901153, 'Avenue I-positive': 0.0016474464579901153, 'by I-negative': 0.007518796992481203, 'glass I-negative': 0.007518796992481203, 'room B-negative': 0.002617801047120419, 'pancakes B-negative': 0.002617801047120419, 'breakfast B-negative': 0.002617801047120419, 'tea I-negative': 0.007518796992481203, 'see I-negative': 0.007518796992481203}\n"
     ]
    }
   ],
   "source": [
    "def store_estimate_emission_fix():\n",
    "    giantEmissionDict = {}\n",
    "    for word_tag_pair in modified_train_list:\n",
    "        if word_tag_pair != \"\":\n",
    "            word_tag_pair_list = word_tag_pair.split(\" \")\n",
    "            countTop = wordTagPairDict[word_tag_pair]\n",
    "            countBottom = annotationDict[word_tag_pair_list[1]]\n",
    "            emission = countTop/countBottom\n",
    "            if giantEmissionDict.get(word_tag_pair) == None:\n",
    "                giantEmissionDict[word_tag_pair] = countTop/countBottom\n",
    "    return giantEmissionDict\n",
    "    \n",
    "giantEmissionDict = store_estimate_emission_fix()\n",
    "print(giantEmissionDict)"
   ]
  },
  {
   "cell_type": "markdown",
   "metadata": {},
   "source": [
    "#### (c) Implement a simple sentiment analysis system that produces the tag"
   ]
  },
  {
   "cell_type": "code",
   "execution_count": 121,
   "metadata": {},
   "outputs": [
    {
     "data": {
      "text/plain": [
       "'B-positive'"
      ]
     },
     "execution_count": 121,
     "metadata": {},
     "output_type": "execute_result"
    }
   ],
   "source": [
    "def sentiment_analysis(word):\n",
    "    all_tags = [\"O\", \"B-positive\", \"I-positive\", \"B-negative\", \"I-negative\", \"B-neutral\", \"I-neutral\"]\n",
    "    scoreDict = {}\n",
    "    # if word never appeared before, let it be #UNK#\n",
    "    if word in modifiedWordDict:\n",
    "        word = word\n",
    "    else:\n",
    "        word = \"#UNK#\"\n",
    "    for tag in all_tags:\n",
    "        possible_word_tag = word + \" \" + tag\n",
    "        if giantEmissionDict.get(possible_word_tag) == None:\n",
    "            scoreDict[tag] = 0\n",
    "        else:\n",
    "            scoreDict[tag] = giantEmissionDict[possible_word_tag]\n",
    "            \n",
    "    maximumScore = max(scoreDict.values())\n",
    "    return max(scoreDict, key=scoreDict.get)\n",
    "\n",
    "   \n",
    "sentiment_analysis(\"ambience\")"
   ]
  },
  {
   "cell_type": "markdown",
   "metadata": {},
   "source": [
    "#### Loads dev.in file and store as dev_in_list"
   ]
  },
  {
   "cell_type": "code",
   "execution_count": 122,
   "metadata": {
    "collapsed": true
   },
   "outputs": [],
   "source": [
    "def load_files():\n",
    "    with open(\"dev.in\", encoding=\"utf-8\") as file:\n",
    "        dev_in_list = file.readlines()\n",
    "        dev_in_list = [x.strip() for x in dev_in_list]\n",
    "        return dev_in_list\n",
    "        \n",
    "dev_in_list = load_files()"
   ]
  },
  {
   "cell_type": "code",
   "execution_count": 123,
   "metadata": {},
   "outputs": [
    {
     "name": "stdout",
     "output_type": "stream",
     "text": [
      "0:00:00.017743\n"
     ]
    }
   ],
   "source": [
    "import datetime\n",
    "def predict_sentiment():\n",
    "    wordDict = {}\n",
    "    f = open(\"dev.p2.out\",\"w+\")\n",
    "    giantStringToBeWritten = \"\"\n",
    "    start = datetime.datetime.now()\n",
    "    for i in range(len(dev_in_list)):\n",
    "        each_word = dev_in_list[i]\n",
    "        if each_word in wordDict:\n",
    "            tag = wordDict[each_word]\n",
    "            giantStringToBeWritten += each_word +  \" \" + tag + \"\\n\"\n",
    "\n",
    "        else:\n",
    "            if each_word != \"\":\n",
    "                tag = sentiment_analysis(each_word)\n",
    "                wordDict[each_word] = tag \n",
    "                giantStringToBeWritten += each_word +  \" \" + tag + \"\\n\"\n",
    "\n",
    "            else:\n",
    "                giantStringToBeWritten += \" \\n\"\n",
    "\n",
    "\n",
    "    f.write(giantStringToBeWritten)\n",
    "    end = datetime.datetime.now()\n",
    "    elapsed = end - start\n",
    "    print(elapsed)\n",
    "\n",
    "predict_sentiment()"
   ]
  },
  {
   "cell_type": "markdown",
   "metadata": {
    "collapsed": true
   },
   "source": [
    "### Part 3 \n",
    "#### Function to estimate Transition Parameters using MLE"
   ]
  },
  {
   "cell_type": "markdown",
   "metadata": {},
   "source": [
    "#### Creating a giant_each_tweet_tag that contains only the states of each sentence"
   ]
  },
  {
   "cell_type": "code",
   "execution_count": 124,
   "metadata": {},
   "outputs": [
    {
     "name": "stdout",
     "output_type": "stream",
     "text": [
      "{'START': 1872, 'O': 24232, 'STOP': 1872, 'B-neutral': 65, 'B-positive': 1208, 'B-negative': 381, 'I-negative': 133, 'I-positive': 607, 'I-neutral': 23}\n"
     ]
    }
   ],
   "source": [
    "def separate_tweets():\n",
    "    countStart = 1\n",
    "    # counting starts\n",
    "    giant_each_tweet = []\n",
    "    each_tweet = []\n",
    "    totalStateNumber = {}\n",
    "    for i in range(len(modified_train_list)):\n",
    "        annotated_word = modified_train_list[i]\n",
    "        each_word = annotated_word.split(\" \")\n",
    "        if each_word == ['']:\n",
    "            countStart += 1\n",
    "            giant_each_tweet.append(each_tweet)\n",
    "            each_tweet = []\n",
    "\n",
    "        else:\n",
    "            each_tweet.append(each_word[1])\n",
    "    for i in range(len(giant_each_tweet)):\n",
    "        giant_each_tweet[i].insert(0, 'START')\n",
    "        giant_each_tweet[i].append('STOP')\n",
    "    \n",
    "    for each_tweet in giant_each_tweet:\n",
    "        for tag in each_tweet:\n",
    "            if totalStateNumber.get(tag) == None:\n",
    "                totalStateNumber[tag] = 1\n",
    "            else:\n",
    "                totalStateNumber[tag] += 1\n",
    "\n",
    "    return giant_each_tweet, countStart, totalStateNumber\n",
    "giantTaggedEachTweet, countStart, totalStateNumber = separate_tweets()\n",
    "print(totalStateNumber)"
   ]
  },
  {
   "cell_type": "code",
   "execution_count": 125,
   "metadata": {},
   "outputs": [
    {
     "name": "stdout",
     "output_type": "stream",
     "text": [
      "{'START O': 0.9401709401709402, 'O O': 0.8601436117530538, 'O STOP': 0.07622152525586003, 'START B-neutral': 0.005341880341880342, 'B-neutral O': 0.7846153846153846, 'O B-positive': 0.04646748101683724, 'B-positive O': 0.6887417218543046, 'O B-negative': 0.014897655992076594, 'B-negative O': 0.7821522309711286, 'B-negative I-negative': 0.2099737532808399, 'I-negative I-negative': 0.39849624060150374, 'I-negative O': 0.6015037593984962, 'O B-neutral': 0.002269725982172334, 'B-positive I-positive': 0.2980132450331126, 'I-positive O': 0.5848434925864909, 'I-positive I-positive': 0.40691927512355847, 'START B-positive': 0.0438034188034188, 'B-neutral I-neutral': 0.2, 'I-neutral I-neutral': 0.43478260869565216, 'I-neutral O': 0.5652173913043478, 'B-negative STOP': 0.007874015748031496, 'START B-negative': 0.010683760683760684, 'I-positive STOP': 0.008237232289950576, 'B-positive STOP': 0.013245033112582781, 'B-neutral STOP': 0.015384615384615385}\n"
     ]
    }
   ],
   "source": [
    "def store_estimate_transition():\n",
    "    giantTransitionDict = {}\n",
    "    finalGiantTransitionDict = {}\n",
    "    for taggedEachTweet in giantTaggedEachTweet:\n",
    "        for i in range(len(taggedEachTweet) - 1):\n",
    "            if giantTransitionDict.get(taggedEachTweet[i]+\" \"+taggedEachTweet[i+1]) == None:\n",
    "                giantTransitionDict[taggedEachTweet[i]+\" \"+taggedEachTweet[i+1]] = 1\n",
    "            else:\n",
    "                giantTransitionDict[taggedEachTweet[i]+\" \"+taggedEachTweet[i+1]] += 1\n",
    "    for eachTransition in giantTransitionDict:\n",
    "        eachTransitionList = eachTransition.split(\" \")\n",
    "        startState = eachTransitionList[0]\n",
    "        countTop = giantTransitionDict[eachTransition]\n",
    "        countBottom = totalStateNumber[startState]\n",
    "        transitionParam = countTop/countBottom\n",
    "        finalGiantTransitionDict[eachTransition] = transitionParam\n",
    "        \n",
    "    return finalGiantTransitionDict\n",
    "    \n",
    "giantTransitionDict = store_estimate_transition()\n",
    "print(giantTransitionDict)"
   ]
  },
  {
   "cell_type": "code",
   "execution_count": 214,
   "metadata": {
    "collapsed": true
   },
   "outputs": [],
   "source": [
    "def split_into_sentences(dev_in_list):\n",
    "    sentences = []\n",
    "    each_sentence = []\n",
    "    for word in dev_in_list:\n",
    "        if word == \"\":\n",
    "            sentences.append(each_sentence)\n",
    "            each_sentence = []\n",
    "        else:\n",
    "            each_sentence.append(word)\n",
    "        \n",
    "    return sentences\n",
    "sentences = split_into_sentences(dev_in_list)"
   ]
  },
  {
   "cell_type": "markdown",
   "metadata": {},
   "source": [
    "## Viterbi"
   ]
  },
  {
   "cell_type": "code",
   "execution_count": 193,
   "metadata": {},
   "outputs": [
    {
     "data": {
      "text/plain": [
       "'AVOID O\\nTHE O\\nPLACE O\\n\\n'"
      ]
     },
     "execution_count": 193,
     "metadata": {},
     "output_type": "execute_result"
    }
   ],
   "source": [
    "def find_path_backward(piList, sentence):\n",
    "    path = []\n",
    "    all_tags=[\"O\",\"B-negative\",\"B-positive\",\"B-neutral\",\"I-negative\",\"I-positive\",\"I-neutral\"]\n",
    "    if len(piList) == len(sentence):\n",
    "#         print('sentence length and pilist length are same, move on')\n",
    "        for i in range(len(piList)):\n",
    "            # select the max of the last layer, use the max to find the previous value\n",
    "            if i == 0: #its the start, i = 0 comes here\n",
    "                lastLayer = piList[len(piList) - (i+1)]\n",
    "                maxPiTag = max(lastLayer, key=lastLayer.get) \n",
    "\n",
    "                path.append(maxPiTag)\n",
    "            else: #i>0 comes here\n",
    "                currentLayer = piList[len(piList) - (i+1)] #2nd last layer onwards\n",
    "                targetedTag = path[i-1]\n",
    "                scoreDict = {}\n",
    "                for tag in currentLayer: \n",
    "                    if giantTransitionDict.get(tag + \" \" + targetedTag) != None:\n",
    "                        scoreOfTag = giantTransitionDict[tag + \" \" + targetedTag] * currentLayer[tag]\n",
    "                        scoreDict[tag] = scoreOfTag\n",
    "                    else:\n",
    "                        # DOESNT MAKE SENSE THAT I NEED TO DO THIS\n",
    "                        print(\"problem from %s to %s\" %(tag, targetedTag))\n",
    "#                         scoreDict[\"O\"] = 0\n",
    "                bestScoreTag = max(scoreDict, key=scoreDict.get)\n",
    "                path.append(bestScoreTag)\n",
    "    singleStringToBeWritten = \"\"\n",
    "    for j in range(len(sentence)):\n",
    "        if sentence[j] == \"\":\n",
    "            singleStringToBeWritten += \"\\n\"\n",
    "        else:\n",
    "            singleStringToBeWritten += sentence[j] + \" \" + path[len(path)-(j+1)] + \"\\n\"\n",
    "    return singleStringToBeWritten\n",
    "\n",
    "# expected: O, B-pos, I-pos, I-pos, I-pos, O, O, O\n",
    "piList2 = [{'O': 0.011751167183887256, 'B-negative': 5.593591981026537e-05, 'B-positive': 3.626110828097583e-05, 'B-neutral': 8.21827744904668e-05}, {'O': 8.338991324034936e-07, 'B-negative': 9.165698754499049e-07, 'B-positive': 9.040515530512611e-07, 'I-positive': 3.5605570172358086e-08}, {'O': 2.2634842581520024e-08, 'I-negative': 5.7881388539058185e-09, 'I-positive': 7.101662919328671e-09}, {'O': 2.268008574567857e-09, 'B-negative': 6.179169339005354e-11, 'B-positive': 2.5510988954216317e-10, 'B-neutral': 8.694212206249598e-12, 'I-negative': 5.896447631148332e-10, 'I-positive': 1.004528079508025e-09}, {'O': 8.047244809898902e-14, 'B-positive': 8.72422561132086e-14, 'I-positive': 1.3468264841998874e-12}, {'O': 4.25651490576254e-15}, {'O': 4.077748569512792e-18}, {'O': 2.2049966416879837e-19}, {'O': 1.6806820721350717e-20}]\n",
    "sentence = ['The', 'tuna', 'and', '#UNK#', 'potatoes', 'are', 'excellent', '.', '']\n",
    "piList3= [{'O': 0.10952242946302841, 'B-negative': 0.0019577571933592874, 'B-positive': 0.010624504726325918, 'B-neutral': 0.0009040105193951349}, {'O': 3.108819999877843e-05}, {'B-negative': 1.212411803650987e-09, 'B-positive': 3.5875587995634343e-09}, {'B-positive': 4.751733509355542e-11}]\n",
    "piList4 = [{'O': 0.10952242946302841, 'B-negative': 0.0019577571933592874, 'B-positive': 0.010624504726325918, 'B-neutral': 0.0009040105193951349}, {'O': 3.108819999877843e-05}, {'O': 3.5875587995634343e-09}, {'O': 2.734492036478072e-10}]\n",
    "sentence2 = ['AVOID', 'THE', 'PLACE', '']\n",
    "find_path_backward(piList4, sentence2)"
   ]
  },
  {
   "cell_type": "code",
   "execution_count": 187,
   "metadata": {},
   "outputs": [
    {
     "name": "stdout",
     "output_type": "stream",
     "text": [
      "O\n",
      "O\n",
      "THE\n",
      "{'O': 3.108819999877843e-05}\n",
      "O\n",
      "B-negative\n",
      "PLACE\n",
      "O\n",
      "B-positive\n",
      "PLACE\n",
      "{'B-negative': 1.212411803650987e-09, 'B-positive': 3.5875587995634343e-09}\n",
      "[{'O': 0.10952242946302841, 'B-negative': 0.0019577571933592874, 'B-positive': 0.010624504726325918, 'B-neutral': 0.0009040105193951349}, {'O': 3.108819999877843e-05}, {'B-negative': 1.212411803650987e-09, 'B-positive': 3.5875587995634343e-09}, {'B-positive': 4.751733509355542e-11}]\n",
      "\n"
     ]
    }
   ],
   "source": [
    "def viterbi(sentence):\n",
    "    all_tags=[\"O\",\"B-negative\",\"B-positive\",\"B-neutral\",\"I-negative\",\"I-positive\",\"I-neutral\"]\n",
    "    sentence.append(\"\") #so we can detect the end\n",
    "    beginning = True\n",
    "    piList = []\n",
    "#     for word in sentence:\n",
    "    for i in range(len(sentence)):\n",
    "        word = sentence[i]\n",
    "        if word in modifiedWordDict:\n",
    "            word = word\n",
    "        else:\n",
    "            word = \"#UNK#\"\n",
    "        \n",
    "        piLayer = {}\n",
    "        if beginning: #base case\n",
    "            for tag in all_tags:\n",
    "                if giantTransitionDict.get(\"START\" + \" \" + tag) != None and giantEmissionDict.get(word + \" \" + tag) != None:\n",
    "                    pi = giantTransitionDict[\"START\" + \" \" + tag]*giantEmissionDict[word + \" \" + tag]\n",
    "                    piLayer[tag] = pi\n",
    "            piList.append(piLayer)\n",
    "            beginning = False\n",
    "        else: #recursive\n",
    "            previousLayer = piList[len(piList) - 1] #last entry of piList\n",
    "            if word == \"\": #end of sentence\n",
    "                tempLayer = {} \n",
    "                for previous_tag in previousLayer:\n",
    "                    if giantTransitionDict.get(previous_tag + \" \" + \"STOP\") != None:\n",
    "                        pi = previousLayer[previous_tag]*giantTransitionDict[previous_tag + \" \" + \"STOP\"] #new score\n",
    "                        tempLayer[previous_tag] = pi\n",
    "                if len(tempLayer) != 0:\n",
    "                    maxPiTag = max(tempLayer, key=tempLayer.get)\n",
    "                    maximumPiScore = max(tempLayer.values())\n",
    "                    lastLayer = {}\n",
    "                    lastLayer[maxPiTag] = maximumPiScore\n",
    "                    piList.append(lastLayer)\n",
    "                    print(piList)\n",
    "                    break\n",
    "                    singleStringToBeWritten = find_path_backward(piList, sentence)\n",
    "                    return singleStringToBeWritten\n",
    "                else:\n",
    "                    return \"ERROR\"\n",
    "\n",
    "            else: #if not end of sentence\n",
    "                for tag in all_tags:\n",
    "                    tempLayer = {}\n",
    "                    for previous_tag in previousLayer:\n",
    "                        if giantTransitionDict.get(previous_tag + \" \" + tag) != None and giantEmissionDict.get(word + \" \" + tag) != None:\n",
    "                            pi = previousLayer[previous_tag]*giantTransitionDict[previous_tag + \" \" + tag]*giantEmissionDict[word + \" \" + tag]\n",
    "                            tempLayer[previous_tag] = pi\n",
    "                    # what if the length is 0? it will never transit to the tag\n",
    "                    if len(tempLayer) != 0:\n",
    "                        # pick the max here\n",
    "#                         print(tempLayer)\n",
    "                        maxPiTag = max(tempLayer, key=tempLayer.get) \n",
    "                        maxPiScore = max(tempLayer.values())\n",
    "                        print(maxPiTag)\n",
    "                        print(tag)\n",
    "                        print(word)\n",
    "                        piLayer[tag] = maxPiScore\n",
    "                print(piLayer)\n",
    "                piList.append(piLayer)\n",
    "\n",
    "\n",
    "giantStringToBeWritten = \"\"\n",
    "# for sentence in sentences:\n",
    "singleStringToBeWritten = viterbi(['AVOID', 'THE', 'PLACE', ''])\n",
    "#     singleStringToBeWritten = viterbi(sentence)\n",
    "#     giantStringToBeWritten += singleStringToBeWritten\n",
    "print(giantStringToBeWritten)\n",
    "# f = open(\"dev.p3.out\",\"w+\")\n",
    "# f.write(giantStringToBeWritten)\n"
   ]
  },
  {
   "cell_type": "markdown",
   "metadata": {},
   "source": [
    "## Viterbi try 3"
   ]
  },
  {
   "cell_type": "code",
   "execution_count": 215,
   "metadata": {},
   "outputs": [
    {
     "name": "stdout",
     "output_type": "stream",
     "text": [
      "['B-positive']\n",
      "B-positive\n",
      "{'B-negative': ['O', 1.212411803650987e-09], 'B-positive': ['O', 3.5875587995634343e-09]}\n",
      "['B-positive', 'O']\n",
      "O\n",
      "{'O': ['O', 3.108819999877843e-05]}\n",
      "['B-positive', 'O', 'O']\n",
      "O\n",
      "{'O': ['START', 0.10952242946302841], 'B-negative': ['START', 0.0019577571933592874], 'B-positive': ['START', 0.010624504726325918], 'B-neutral': ['START', 0.0009040105193951349]}\n",
      "['B-positive', 'O', 'O', 'START']\n"
     ]
    },
    {
     "data": {
      "text/plain": [
       "'AVOID O\\nTHE O\\nPLACE B-positive\\n\\n'"
      ]
     },
     "execution_count": 215,
     "metadata": {},
     "output_type": "execute_result"
    }
   ],
   "source": [
    "def find_path_backward2(piList, sentence):\n",
    "    path = []\n",
    "    if len(piList) == len(sentence):\n",
    "#         print('sentence length and pilist length are same, move on')\n",
    "        for i in range(len(piList)):\n",
    "            # select the max of the last layer, use the max to find the previous value\n",
    "            if i == 0: #its the start, i = 0 comes here\n",
    "                lastLayer = piList[len(piList) - (i+1)]\n",
    "                for maxPiTag in lastLayer:\n",
    "#                     maxPiTag = max(lastLayer, key=lastLayer.get) \n",
    "                    path.append(maxPiTag)\n",
    "            else: #i>0 comes here\n",
    "                currentLayer = piList[len(piList) - (i+1)] #2nd last layer onwards\n",
    "                targetedTag = path[i-1]\n",
    "                scoreDict = {}\n",
    "#                 print(path)\n",
    "#                 print(targetedTag)\n",
    "#                 print(currentLayer)\n",
    "                for tag in currentLayer: \n",
    "                    if tag == targetedTag:\n",
    "                        currentTag = currentLayer[tag][0]\n",
    "                        path.append(currentTag)\n",
    "                    \n",
    "#                 bestScoreTag = max(scoreDict, key=scoreDict.get)\n",
    "#                 path.append(bestScoreTag)\n",
    "    singleStringToBeWritten = \"\"\n",
    "    path.remove(\"START\")\n",
    "    for j in range(len(sentence)):\n",
    "        if sentence[j] == \"\":\n",
    "            singleStringToBeWritten += \"\\n\"\n",
    "        else:\n",
    "            singleStringToBeWritten += sentence[j] + \" \" + path[len(path)-(j+1)] + \"\\n\"\n",
    "    return singleStringToBeWritten\n",
    "\n",
    "# expected: O, B-pos, I-pos, I-pos, I-pos, O, O, O\n",
    "# piList2 = [{'O': 0.011751167183887256, 'B-negative': 5.593591981026537e-05, 'B-positive': 3.626110828097583e-05, 'B-neutral': 8.21827744904668e-05}, {'O': 8.338991324034936e-07, 'B-negative': 9.165698754499049e-07, 'B-positive': 9.040515530512611e-07, 'I-positive': 3.5605570172358086e-08}, {'O': 2.2634842581520024e-08, 'I-negative': 5.7881388539058185e-09, 'I-positive': 7.101662919328671e-09}, {'O': 2.268008574567857e-09, 'B-negative': 6.179169339005354e-11, 'B-positive': 2.5510988954216317e-10, 'B-neutral': 8.694212206249598e-12, 'I-negative': 5.896447631148332e-10, 'I-positive': 1.004528079508025e-09}, {'O': 8.047244809898902e-14, 'B-positive': 8.72422561132086e-14, 'I-positive': 1.3468264841998874e-12}, {'O': 4.25651490576254e-15}, {'O': 4.077748569512792e-18}, {'O': 2.2049966416879837e-19}, {'O': 1.6806820721350717e-20}]\n",
    "# sentence = ['The', 'tuna', 'and', '#UNK#', 'potatoes', 'are', 'excellent', '.', '']\n",
    "# piList3= [{'O': 0.10952242946302841, 'B-negative': 0.0019577571933592874, 'B-positive': 0.010624504726325918, 'B-neutral': 0.0009040105193951349}, {'O': 3.108819999877843e-05}, {'B-negative': 1.212411803650987e-09, 'B-positive': 3.5875587995634343e-09}, {'B-positive': 4.751733509355542e-11}]\n",
    "piList4 = [{'O': ['START', 0.10952242946302841], 'B-negative': ['START', 0.0019577571933592874], 'B-positive': ['START', 0.010624504726325918], 'B-neutral': ['START', 0.0009040105193951349]}, {'O': ['O', 3.108819999877843e-05]}, {'B-negative': ['O', 1.212411803650987e-09], 'B-positive': ['O', 3.5875587995634343e-09]}, {'B-positive': ['B-positive', 4.751733509355542e-11]}]\n",
    "sentence2 = ['AVOID', 'THE', 'PLACE', '']\n",
    "find_path_backward(piList4, sentence2)"
   ]
  },
  {
   "cell_type": "code",
   "execution_count": 220,
   "metadata": {},
   "outputs": [
    {
     "name": "stdout",
     "output_type": "stream",
     "text": [
      "[{'O': ['START', 0.10952242946302841], 'B-negative': ['START', 0.0019577571933592874], 'B-positive': ['START', 0.010624504726325918], 'B-neutral': ['START', 0.0009040105193951349]}, {'O': ['O', 6.606242499740415e-05]}, {'O': ['O', 2.2103890762578083e-06]}, {'O': ['O', 8.634924922937496e-08]}, {'O': ['O', 1.8995589540746594e-10]}, {'O': ['O', 1.3479857268341149e-14], 'B-negative': ['O', 1.481621771438382e-14], 'B-positive': ['O', 1.4613860867355534e-14]}, {'O': ['O', 2.262293541870401e-16]}, {'O': ['O', 1.1879911146629907e-18]}, {'O': ['O', 1.0116422421550313e-21]}, {'O': ['O', 4.522723335868222e-24]}, {'O': ['O', 2.4456117381618816e-25]}, {'O': ['O', 1.864082568663336e-26]}]\n"
     ]
    },
    {
     "ename": "TypeError",
     "evalue": "must be str, not NoneType",
     "output_type": "error",
     "traceback": [
      "\u001b[0;31m---------------------------------------------------------------------------\u001b[0m",
      "\u001b[0;31mTypeError\u001b[0m                                 Traceback (most recent call last)",
      "\u001b[0;32m<ipython-input-220-eac937d948d7>\u001b[0m in \u001b[0;36m<module>\u001b[0;34m()\u001b[0m\n\u001b[1;32m     63\u001b[0m \u001b[0;31m# for sentence in sentences:\u001b[0m\u001b[0;34m\u001b[0m\u001b[0;34m\u001b[0m\u001b[0m\n\u001b[1;32m     64\u001b[0m \u001b[0msingleStringToBeWritten\u001b[0m \u001b[0;34m=\u001b[0m \u001b[0mviterbi\u001b[0m\u001b[0;34m(\u001b[0m\u001b[0;34m[\u001b[0m\u001b[0;34m\"Hands\"\u001b[0m\u001b[0;34m,\u001b[0m \u001b[0;34m\"down\"\u001b[0m\u001b[0;34m,\u001b[0m \u001b[0;34m\",\"\u001b[0m\u001b[0;34m,\u001b[0m \u001b[0;34m\"the\"\u001b[0m\u001b[0;34m,\u001b[0m \u001b[0;34m\"best\"\u001b[0m\u001b[0;34m,\u001b[0m \u001b[0;34m\"tuna\"\u001b[0m\u001b[0;34m,\u001b[0m \u001b[0;34m\"I\"\u001b[0m\u001b[0;34m,\u001b[0m \u001b[0;34m\"have\"\u001b[0m\u001b[0;34m,\u001b[0m \u001b[0;34m\"ever\"\u001b[0m\u001b[0;34m,\u001b[0m \u001b[0;34m\"had\"\u001b[0m\u001b[0;34m,\u001b[0m \u001b[0;34m\".\"\u001b[0m\u001b[0;34m]\u001b[0m\u001b[0;34m)\u001b[0m\u001b[0;34m\u001b[0m\u001b[0m\n\u001b[0;32m---> 65\u001b[0;31m \u001b[0mgiantStringToBeWritten\u001b[0m \u001b[0;34m+=\u001b[0m \u001b[0msingleStringToBeWritten\u001b[0m\u001b[0;34m\u001b[0m\u001b[0m\n\u001b[0m\u001b[1;32m     66\u001b[0m \u001b[0mprint\u001b[0m\u001b[0;34m(\u001b[0m\u001b[0mgiantStringToBeWritten\u001b[0m\u001b[0;34m)\u001b[0m\u001b[0;34m\u001b[0m\u001b[0m\n\u001b[1;32m     67\u001b[0m \u001b[0;31m# f = open(\"dev.p3.out\",\"w+\")\u001b[0m\u001b[0;34m\u001b[0m\u001b[0;34m\u001b[0m\u001b[0m\n",
      "\u001b[0;31mTypeError\u001b[0m: must be str, not NoneType"
     ]
    }
   ],
   "source": [
    "def viterbi(sentence):\n",
    "    all_tags=[\"O\",\"B-negative\",\"B-positive\",\"B-neutral\",\"I-negative\",\"I-positive\",\"I-neutral\"]\n",
    "    sentence.append(\"\") #so we can detect the end\n",
    "    beginning = True\n",
    "    piList = []\n",
    "#     for word in sentence:\n",
    "    for i in range(len(sentence)):\n",
    "        word = sentence[i]\n",
    "        if word in modifiedWordDict:\n",
    "            word = word\n",
    "        else:\n",
    "            word = \"#UNK#\"\n",
    "        \n",
    "        piLayer = {}\n",
    "        if beginning: #base case\n",
    "            for tag in all_tags:\n",
    "                if giantTransitionDict.get(\"START\" + \" \" + tag) != None and giantEmissionDict.get(word + \" \" + tag) != None:\n",
    "                    pi = giantTransitionDict[\"START\" + \" \" + tag]*giantEmissionDict[word + \" \" + tag]\n",
    "                    piLayer[tag] = [\"START\",pi]\n",
    "            piList.append(piLayer)\n",
    "            beginning = False\n",
    "        else: #recursive\n",
    "            previousLayer = piList[len(piList) - 1] #last entry of piList\n",
    "            if word == \"\": #end of sentence\n",
    "                tempLayer = {} \n",
    "                for previous_tag in previousLayer:\n",
    "                    if giantTransitionDict.get(previous_tag + \" \" + \"STOP\") != None:\n",
    "                        pi = previousLayer[previous_tag][1]*giantTransitionDict[previous_tag + \" \" + \"STOP\"] #new score\n",
    "                        tempLayer[previous_tag] = pi\n",
    "                if len(tempLayer) != 0:\n",
    "                    maxPiTag = max(tempLayer, key=tempLayer.get)\n",
    "                    maximumPiScore = max(tempLayer.values())\n",
    "                    lastLayer = {}\n",
    "                    lastLayer[maxPiTag] = [maxPiTag,maximumPiScore]\n",
    "                    piList.append(lastLayer)\n",
    "                    print(piList)\n",
    "                    break\n",
    "                    singleStringToBeWritten = find_path_backward2(piList, sentence)\n",
    "                    return singleStringToBeWritten\n",
    "                else:\n",
    "                    return \"ERROR\"\n",
    "\n",
    "            else: #if not end of sentence\n",
    "                for tag in all_tags:\n",
    "                    tempLayer = {}\n",
    "                    for previous_tag in previousLayer:\n",
    "                        if giantTransitionDict.get(previous_tag + \" \" + tag) != None and giantEmissionDict.get(word + \" \" + tag) != None:\n",
    "                            pi = previousLayer[previous_tag][1]*giantTransitionDict[previous_tag + \" \" + tag]*giantEmissionDict[word + \" \" + tag]\n",
    "                            tempLayer[previous_tag] = pi\n",
    "                    if len(tempLayer) != 0:\n",
    "\n",
    "                        maxPiTag = max(tempLayer, key=tempLayer.get) \n",
    "                        maxPiScore = max(tempLayer.values())\n",
    "#                         print(maxPiTag)\n",
    "#                         print(tag)\n",
    "#                         print(word)\n",
    "                        piLayer[tag] = [maxPiTag, maxPiScore]\n",
    "#                 print(piLayer)\n",
    "                piList.append(piLayer)\n",
    "\n",
    "\n",
    "giantStringToBeWritten = \"\"\n",
    "# for sentence in sentences:\n",
    "singleStringToBeWritten = viterbi([\"Hands\", \"down\", \",\", \"the\", \"best\", \"tuna\", \"I\", \"have\", \"ever\", \"had\", \".\"])\n",
    "giantStringToBeWritten += singleStringToBeWritten\n",
    "print(giantStringToBeWritten)\n",
    "# f = open(\"dev.p3.out\",\"w+\")\n",
    "# f.write(giantStringToBeWritten)"
   ]
  },
  {
   "cell_type": "code",
   "execution_count": null,
   "metadata": {
    "collapsed": true
   },
   "outputs": [],
   "source": []
  }
 ],
 "metadata": {
  "kernelspec": {
   "display_name": "Python 3",
   "language": "python",
   "name": "python3"
  },
  "language_info": {
   "codemirror_mode": {
    "name": "ipython",
    "version": 3
   },
   "file_extension": ".py",
   "mimetype": "text/x-python",
   "name": "python",
   "nbconvert_exporter": "python",
   "pygments_lexer": "ipython3",
   "version": "3.6.1"
  }
 },
 "nbformat": 4,
 "nbformat_minor": 2
}
